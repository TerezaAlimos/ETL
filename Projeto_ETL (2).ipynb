{
 "cells": [
  {
   "cell_type": "markdown",
   "metadata": {
    "application/vnd.databricks.v1+cell": {
     "cellMetadata": {
      "byteLimit": 2048000,
      "rowLimit": 10000
     },
     "inputWidgets": {},
     "nuid": "7fd2ecbb-8c83-41ae-a0a9-f369402597eb",
     "showTitle": false,
     "tableResultSettingsMap": {},
     "title": ""
    }
   },
   "source": [
    "Introdução\n",
    "Esse trabalho é uma analise de duas tabelas que contem dados de filmes, extraídas do IMDB, trabalharei com os dados de filme, os datasets usados serão um dataset com informações básicas de filme e um dataset com notas dos mesmos.\n",
    "\n",
    "O objetivo é responder as seguintes perguntas: \n",
    "\n",
    "1.\tA nota média de filmes varia ao longo das décadas?\"\n",
    "2.\tQual a nota média dos filmes por década?\n",
    "3.\tQuais gêneros mais se destacaram em cada década?\n",
    "4.\tO número de filmes lançados aumentou com o tempo?\n",
    "\n"
   ]
  },
  {
   "cell_type": "code",
   "execution_count": 0,
   "metadata": {
    "application/vnd.databricks.v1+cell": {
     "cellMetadata": {
      "byteLimit": 2048000,
      "rowLimit": 10000
     },
     "inputWidgets": {},
     "nuid": "dc679496-5c51-4f87-8869-372c3ab1dbb3",
     "showTitle": true,
     "tableResultSettingsMap": {},
     "title": "Importando os pacotes"
    }
   },
   "outputs": [],
   "source": [
    "# Importar bibliotecas necessárias\n",
    "from pyspark.sql import SparkSession\n",
    "from pyspark.sql.functions import col, expr, when, split, explode\n",
    "from pyspark.sql.functions import when\n",
    "from pyspark.sql.functions import col, when\n",
    "from pyspark.sql.types import IntegerType, StringType, BooleanType\n",
    "from pyspark.sql.functions import explode, split\n",
    "from pyspark.sql.functions import col, explode, split, floor, count, avg, desc\n",
    "\n"
   ]
  },
  {
   "cell_type": "code",
   "execution_count": 0,
   "metadata": {
    "application/vnd.databricks.v1+cell": {
     "cellMetadata": {
      "byteLimit": 2048000,
      "rowLimit": 10000
     },
     "inputWidgets": {},
     "nuid": "f423eaa2-5ed8-44c7-8dab-82e0971233af",
     "showTitle": true,
     "tableResultSettingsMap": {},
     "title": "Caminho para os arquivos"
    }
   },
   "outputs": [
    {
     "output_type": "display_data",
     "data": {
      "text/html": [
       "<style scoped>\n",
       "  .table-result-container {\n",
       "    max-height: 300px;\n",
       "    overflow: auto;\n",
       "  }\n",
       "  table, th, td {\n",
       "    border: 1px solid black;\n",
       "    border-collapse: collapse;\n",
       "  }\n",
       "  th, td {\n",
       "    padding: 5px;\n",
       "  }\n",
       "  th {\n",
       "    text-align: left;\n",
       "  }\n",
       "</style><div class='table-result-container'><table class='table-result'><thead style='background-color: white'><tr><th>path</th><th>name</th><th>size</th><th>modificationTime</th></tr></thead><tbody><tr><td>dbfs:/FileStore/tables/title_basics.tsv</td><td>title_basics.tsv</td><td>1000385777</td><td>1744401970000</td></tr><tr><td>dbfs:/FileStore/tables/title_ratings-1.tsv</td><td>title_ratings-1.tsv</td><td>27091117</td><td>1744401755000</td></tr><tr><td>dbfs:/FileStore/tables/title_ratings-2.tsv</td><td>title_ratings-2.tsv</td><td>27091117</td><td>1744402249000</td></tr><tr><td>dbfs:/FileStore/tables/title_ratings.tsv</td><td>title_ratings.tsv</td><td>27091117</td><td>1744397172000</td></tr></tbody></table></div>"
      ]
     },
     "metadata": {
      "application/vnd.databricks.v1+output": {
       "addedWidgets": {},
       "aggData": [],
       "aggError": "",
       "aggOverflow": false,
       "aggSchema": [],
       "aggSeriesLimitReached": false,
       "aggType": "",
       "arguments": {},
       "columnCustomDisplayInfos": {},
       "data": [
        [
         "dbfs:/FileStore/tables/title_basics.tsv",
         "title_basics.tsv",
         1000385777,
         1744401970000
        ],
        [
         "dbfs:/FileStore/tables/title_ratings-1.tsv",
         "title_ratings-1.tsv",
         27091117,
         1744401755000
        ],
        [
         "dbfs:/FileStore/tables/title_ratings-2.tsv",
         "title_ratings-2.tsv",
         27091117,
         1744402249000
        ],
        [
         "dbfs:/FileStore/tables/title_ratings.tsv",
         "title_ratings.tsv",
         27091117,
         1744397172000
        ]
       ],
       "datasetInfos": [],
       "dbfsResultPath": null,
       "isJsonSchema": true,
       "metadata": {},
       "overflow": false,
       "plotOptions": {
        "customPlotOptions": {},
        "displayType": "table",
        "pivotAggregation": null,
        "pivotColumns": null,
        "xColumns": null,
        "yColumns": null
       },
       "removedWidgets": [],
       "schema": [
        {
         "metadata": "{}",
         "name": "path",
         "type": "\"string\""
        },
        {
         "metadata": "{}",
         "name": "name",
         "type": "\"string\""
        },
        {
         "metadata": "{}",
         "name": "size",
         "type": "\"long\""
        },
        {
         "metadata": "{}",
         "name": "modificationTime",
         "type": "\"long\""
        }
       ],
       "type": "table"
      }
     },
     "output_type": "display_data"
    }
   ],
   "source": [
    "# Comando para procurar o caminho dos arquivos\n",
    "display(dbutils.fs.ls('dbfs:/FileStore/tables'))\n",
    "\n"
   ]
  },
  {
   "cell_type": "code",
   "execution_count": 0,
   "metadata": {
    "application/vnd.databricks.v1+cell": {
     "cellMetadata": {
      "byteLimit": 2048000,
      "rowLimit": 10000
     },
     "inputWidgets": {},
     "nuid": "27e0091c-7d4d-4b68-82f8-774cc940b4cd",
     "showTitle": true,
     "tableResultSettingsMap": {},
     "title": "Importando os dados dos filmes"
    }
   },
   "outputs": [
    {
     "output_type": "stream",
     "name": "stdout",
     "output_type": "stream",
     "text": [
      "Esquema de title.basics:\nroot\n |-- tconst: string (nullable = true)\n |-- titleType: string (nullable = true)\n |-- primaryTitle: string (nullable = true)\n |-- originalTitle: string (nullable = true)\n |-- isAdult: string (nullable = true)\n |-- startYear: string (nullable = true)\n |-- endYear: string (nullable = true)\n |-- runtimeMinutes: string (nullable = true)\n |-- genres: string (nullable = true)\n\n"
     ]
    }
   ],
   "source": [
    " # Carregar os arquivos TSV\n",
    " df_basics = spark.read.option(\"header\", True)\\\n",
    "    .option(\"sep\", \"\\t\")\\\n",
    "    .option(\"inferSchema\", True)\\\n",
    "    .csv(\"dbfs:/FileStore/tables/title_basics.tsv\")\n",
    "\n",
    "    # Visualizar esquema dos dados\n",
    "print(\"Esquema de title.basics:\")\n",
    "df_basics.printSchema()\n",
    "\n"
   ]
  },
  {
   "cell_type": "code",
   "execution_count": 0,
   "metadata": {
    "application/vnd.databricks.v1+cell": {
     "cellMetadata": {
      "byteLimit": 2048000,
      "rowLimit": 10000
     },
     "inputWidgets": {},
     "nuid": "a7569ce2-45ca-4e36-81ec-6c959a16dbf1",
     "showTitle": true,
     "tableResultSettingsMap": {},
     "title": "Importando os dados das notas"
    }
   },
   "outputs": [
    {
     "output_type": "stream",
     "name": "stdout",
     "output_type": "stream",
     "text": [
      "Esquema de title.ratings:\nroot\n |-- tconst: string (nullable = true)\n |-- averageRating: double (nullable = true)\n |-- numVotes: integer (nullable = true)\n\n"
     ]
    }
   ],
   "source": [
    "# Carregar os arquivos TSV\n",
    "df_ratings = spark.read.option(\"header\", True)\\\n",
    "    .option(\"sep\", \"\\t\")\\\n",
    "    .option(\"inferSchema\", True)\\\n",
    "    .csv(\"dbfs:/FileStore/tables/title_ratings.tsv\")\n",
    "\n",
    "     # Visualizar esquema dos dados\n",
    "print(\"Esquema de title.ratings:\")\n",
    "df_ratings.printSchema()\n"
   ]
  },
  {
   "cell_type": "code",
   "execution_count": 0,
   "metadata": {
    "application/vnd.databricks.v1+cell": {
     "cellMetadata": {
      "byteLimit": 2048000,
      "implicitDf": true,
      "rowLimit": 10000
     },
     "inputWidgets": {},
     "nuid": "43ed8ec1-43fb-4c98-a5ad-56d0d3cb95e2",
     "showTitle": true,
     "tableResultSettingsMap": {},
     "title": "Criando database Bronze"
    }
   },
   "outputs": [
    {
     "output_type": "display_data",
     "data": {
      "text/html": [
       "<style scoped>\n",
       "  .table-result-container {\n",
       "    max-height: 300px;\n",
       "    overflow: auto;\n",
       "  }\n",
       "  table, th, td {\n",
       "    border: 1px solid black;\n",
       "    border-collapse: collapse;\n",
       "  }\n",
       "  th, td {\n",
       "    padding: 5px;\n",
       "  }\n",
       "  th {\n",
       "    text-align: left;\n",
       "  }\n",
       "</style><div class='table-result-container'><table class='table-result'><thead style='background-color: white'><tr></tr></thead><tbody></tbody></table></div>"
      ]
     },
     "metadata": {
      "application/vnd.databricks.v1+output": {
       "addedWidgets": {},
       "aggData": [],
       "aggError": "",
       "aggOverflow": false,
       "aggSchema": [],
       "aggSeriesLimitReached": false,
       "aggType": "",
       "arguments": {},
       "columnCustomDisplayInfos": {},
       "data": [],
       "datasetInfos": [],
       "dbfsResultPath": null,
       "isJsonSchema": true,
       "metadata": {},
       "overflow": false,
       "plotOptions": {
        "customPlotOptions": {},
        "displayType": "table",
        "pivotAggregation": null,
        "pivotColumns": null,
        "xColumns": null,
        "yColumns": null
       },
       "removedWidgets": [],
       "schema": [],
       "type": "table"
      }
     },
     "output_type": "display_data"
    }
   ],
   "source": [
    "%sql CREATE DATABASE bronze;"
   ]
  },
  {
   "cell_type": "code",
   "execution_count": 0,
   "metadata": {
    "application/vnd.databricks.v1+cell": {
     "cellMetadata": {
      "byteLimit": 2048000,
      "rowLimit": 10000
     },
     "inputWidgets": {},
     "nuid": "b8d5576c-bb89-47cc-bacc-157de2cd74a6",
     "showTitle": true,
     "tableResultSettingsMap": {},
     "title": "Importando os dataframes para a o banco bronze"
    }
   },
   "outputs": [],
   "source": [
    "df_basics.write.format(\"delta\").mode(\"overwrite\").saveAsTable(\"bronze.title_basics\")\n",
    "df_ratings.write.format(\"delta\").mode(\"overwrite\").saveAsTable(\"bronze.title_ratings\")"
   ]
  },
  {
   "cell_type": "code",
   "execution_count": 0,
   "metadata": {
    "application/vnd.databricks.v1+cell": {
     "cellMetadata": {
      "byteLimit": 2048000,
      "implicitDf": true,
      "rowLimit": 10000
     },
     "inputWidgets": {},
     "nuid": "9044ba54-1e60-491e-9138-dba24c999bef",
     "showTitle": true,
     "tableResultSettingsMap": {},
     "title": "Verifficando a tabela de filmes"
    }
   },
   "outputs": [
    {
     "output_type": "display_data",
     "data": {
      "text/html": [
       "<style scoped>\n",
       "  .table-result-container {\n",
       "    max-height: 300px;\n",
       "    overflow: auto;\n",
       "  }\n",
       "  table, th, td {\n",
       "    border: 1px solid black;\n",
       "    border-collapse: collapse;\n",
       "  }\n",
       "  th, td {\n",
       "    padding: 5px;\n",
       "  }\n",
       "  th {\n",
       "    text-align: left;\n",
       "  }\n",
       "</style><div class='table-result-container'><table class='table-result'><thead style='background-color: white'><tr><th>tconst</th><th>titleType</th><th>primaryTitle</th><th>originalTitle</th><th>isAdult</th><th>startYear</th><th>endYear</th><th>runtimeMinutes</th><th>genres</th></tr></thead><tbody><tr><td>tt0000001</td><td>short</td><td>Carmencita</td><td>Carmencita</td><td>0</td><td>1894</td><td>\\N</td><td>1</td><td>Documentary,Short</td></tr><tr><td>tt0000002</td><td>short</td><td>Le clown et ses chiens</td><td>Le clown et ses chiens</td><td>0</td><td>1892</td><td>\\N</td><td>5</td><td>Animation,Short</td></tr><tr><td>tt0000003</td><td>short</td><td>Poor Pierrot</td><td>Pauvre Pierrot</td><td>0</td><td>1892</td><td>\\N</td><td>5</td><td>Animation,Comedy,Romance</td></tr><tr><td>tt0000004</td><td>short</td><td>Un bon bock</td><td>Un bon bock</td><td>0</td><td>1892</td><td>\\N</td><td>12</td><td>Animation,Short</td></tr><tr><td>tt0000005</td><td>short</td><td>Blacksmith Scene</td><td>Blacksmith Scene</td><td>0</td><td>1893</td><td>\\N</td><td>1</td><td>Short</td></tr><tr><td>tt0000006</td><td>short</td><td>Chinese Opium Den</td><td>Chinese Opium Den</td><td>0</td><td>1894</td><td>\\N</td><td>1</td><td>Short</td></tr><tr><td>tt0000007</td><td>short</td><td>Corbett and Courtney Before the Kinetograph</td><td>Corbett and Courtney Before the Kinetograph</td><td>0</td><td>1894</td><td>\\N</td><td>1</td><td>Short,Sport</td></tr><tr><td>tt0000008</td><td>short</td><td>Edison Kinetoscopic Record of a Sneeze</td><td>Edison Kinetoscopic Record of a Sneeze</td><td>0</td><td>1894</td><td>\\N</td><td>1</td><td>Documentary,Short</td></tr><tr><td>tt0000009</td><td>movie</td><td>Miss Jerry</td><td>Miss Jerry</td><td>0</td><td>1894</td><td>\\N</td><td>45</td><td>Romance</td></tr><tr><td>tt0000010</td><td>short</td><td>Leaving the Factory</td><td>La sortie de l'usine Lumière à Lyon</td><td>0</td><td>1895</td><td>\\N</td><td>1</td><td>Documentary,Short</td></tr></tbody></table></div>"
      ]
     },
     "metadata": {
      "application/vnd.databricks.v1+output": {
       "addedWidgets": {},
       "aggData": [],
       "aggError": "",
       "aggOverflow": false,
       "aggSchema": [],
       "aggSeriesLimitReached": false,
       "aggType": "",
       "arguments": {},
       "columnCustomDisplayInfos": {},
       "data": [
        [
         "tt0000001",
         "short",
         "Carmencita",
         "Carmencita",
         "0",
         "1894",
         "\\N",
         "1",
         "Documentary,Short"
        ],
        [
         "tt0000002",
         "short",
         "Le clown et ses chiens",
         "Le clown et ses chiens",
         "0",
         "1892",
         "\\N",
         "5",
         "Animation,Short"
        ],
        [
         "tt0000003",
         "short",
         "Poor Pierrot",
         "Pauvre Pierrot",
         "0",
         "1892",
         "\\N",
         "5",
         "Animation,Comedy,Romance"
        ],
        [
         "tt0000004",
         "short",
         "Un bon bock",
         "Un bon bock",
         "0",
         "1892",
         "\\N",
         "12",
         "Animation,Short"
        ],
        [
         "tt0000005",
         "short",
         "Blacksmith Scene",
         "Blacksmith Scene",
         "0",
         "1893",
         "\\N",
         "1",
         "Short"
        ],
        [
         "tt0000006",
         "short",
         "Chinese Opium Den",
         "Chinese Opium Den",
         "0",
         "1894",
         "\\N",
         "1",
         "Short"
        ],
        [
         "tt0000007",
         "short",
         "Corbett and Courtney Before the Kinetograph",
         "Corbett and Courtney Before the Kinetograph",
         "0",
         "1894",
         "\\N",
         "1",
         "Short,Sport"
        ],
        [
         "tt0000008",
         "short",
         "Edison Kinetoscopic Record of a Sneeze",
         "Edison Kinetoscopic Record of a Sneeze",
         "0",
         "1894",
         "\\N",
         "1",
         "Documentary,Short"
        ],
        [
         "tt0000009",
         "movie",
         "Miss Jerry",
         "Miss Jerry",
         "0",
         "1894",
         "\\N",
         "45",
         "Romance"
        ],
        [
         "tt0000010",
         "short",
         "Leaving the Factory",
         "La sortie de l'usine Lumière à Lyon",
         "0",
         "1895",
         "\\N",
         "1",
         "Documentary,Short"
        ]
       ],
       "datasetInfos": [],
       "dbfsResultPath": null,
       "isJsonSchema": true,
       "metadata": {},
       "overflow": false,
       "plotOptions": {
        "customPlotOptions": {},
        "displayType": "table",
        "pivotAggregation": null,
        "pivotColumns": null,
        "xColumns": null,
        "yColumns": null
       },
       "removedWidgets": [],
       "schema": [
        {
         "metadata": "{}",
         "name": "tconst",
         "type": "\"string\""
        },
        {
         "metadata": "{}",
         "name": "titleType",
         "type": "\"string\""
        },
        {
         "metadata": "{}",
         "name": "primaryTitle",
         "type": "\"string\""
        },
        {
         "metadata": "{}",
         "name": "originalTitle",
         "type": "\"string\""
        },
        {
         "metadata": "{}",
         "name": "isAdult",
         "type": "\"string\""
        },
        {
         "metadata": "{}",
         "name": "startYear",
         "type": "\"string\""
        },
        {
         "metadata": "{}",
         "name": "endYear",
         "type": "\"string\""
        },
        {
         "metadata": "{}",
         "name": "runtimeMinutes",
         "type": "\"string\""
        },
        {
         "metadata": "{}",
         "name": "genres",
         "type": "\"string\""
        }
       ],
       "type": "table"
      }
     },
     "output_type": "display_data"
    }
   ],
   "source": [
    "%sql SELECT * FROM bronze.title_basics LIMIT 10"
   ]
  },
  {
   "cell_type": "code",
   "execution_count": 0,
   "metadata": {
    "application/vnd.databricks.v1+cell": {
     "cellMetadata": {
      "byteLimit": 2048000,
      "implicitDf": true,
      "rowLimit": 10000
     },
     "inputWidgets": {},
     "nuid": "5d7a0df2-bb69-4331-9f71-d35f28d7548f",
     "showTitle": true,
     "tableResultSettingsMap": {},
     "title": "Verifficando a tabela de notas"
    }
   },
   "outputs": [
    {
     "output_type": "display_data",
     "data": {
      "text/html": [
       "<style scoped>\n",
       "  .table-result-container {\n",
       "    max-height: 300px;\n",
       "    overflow: auto;\n",
       "  }\n",
       "  table, th, td {\n",
       "    border: 1px solid black;\n",
       "    border-collapse: collapse;\n",
       "  }\n",
       "  th, td {\n",
       "    padding: 5px;\n",
       "  }\n",
       "  th {\n",
       "    text-align: left;\n",
       "  }\n",
       "</style><div class='table-result-container'><table class='table-result'><thead style='background-color: white'><tr><th>tconst</th><th>averageRating</th><th>numVotes</th></tr></thead><tbody><tr><td>tt0000001</td><td>5.7</td><td>2148</td></tr><tr><td>tt0000002</td><td>5.5</td><td>292</td></tr><tr><td>tt0000003</td><td>6.5</td><td>2182</td></tr><tr><td>tt0000004</td><td>5.3</td><td>188</td></tr><tr><td>tt0000005</td><td>6.2</td><td>2926</td></tr><tr><td>tt0000006</td><td>5.0</td><td>211</td></tr><tr><td>tt0000007</td><td>5.3</td><td>907</td></tr><tr><td>tt0000008</td><td>5.4</td><td>2293</td></tr><tr><td>tt0000009</td><td>5.3</td><td>224</td></tr><tr><td>tt0000010</td><td>6.8</td><td>7928</td></tr></tbody></table></div>"
      ]
     },
     "metadata": {
      "application/vnd.databricks.v1+output": {
       "addedWidgets": {},
       "aggData": [],
       "aggError": "",
       "aggOverflow": false,
       "aggSchema": [],
       "aggSeriesLimitReached": false,
       "aggType": "",
       "arguments": {},
       "columnCustomDisplayInfos": {},
       "data": [
        [
         "tt0000001",
         5.7,
         2148
        ],
        [
         "tt0000002",
         5.5,
         292
        ],
        [
         "tt0000003",
         6.5,
         2182
        ],
        [
         "tt0000004",
         5.3,
         188
        ],
        [
         "tt0000005",
         6.2,
         2926
        ],
        [
         "tt0000006",
         5.0,
         211
        ],
        [
         "tt0000007",
         5.3,
         907
        ],
        [
         "tt0000008",
         5.4,
         2293
        ],
        [
         "tt0000009",
         5.3,
         224
        ],
        [
         "tt0000010",
         6.8,
         7928
        ]
       ],
       "datasetInfos": [],
       "dbfsResultPath": null,
       "isJsonSchema": true,
       "metadata": {},
       "overflow": false,
       "plotOptions": {
        "customPlotOptions": {},
        "displayType": "table",
        "pivotAggregation": null,
        "pivotColumns": null,
        "xColumns": null,
        "yColumns": null
       },
       "removedWidgets": [],
       "schema": [
        {
         "metadata": "{}",
         "name": "tconst",
         "type": "\"string\""
        },
        {
         "metadata": "{}",
         "name": "averageRating",
         "type": "\"double\""
        },
        {
         "metadata": "{}",
         "name": "numVotes",
         "type": "\"integer\""
        }
       ],
       "type": "table"
      }
     },
     "output_type": "display_data"
    }
   ],
   "source": [
    "%sql SELECT * FROM bronze.title_ratings LIMIT 10"
   ]
  },
  {
   "cell_type": "code",
   "execution_count": 0,
   "metadata": {
    "application/vnd.databricks.v1+cell": {
     "cellMetadata": {
      "byteLimit": 2048000,
      "implicitDf": true,
      "rowLimit": 10000
     },
     "inputWidgets": {},
     "nuid": "b70697ac-e5e6-425c-97c6-f82c8141851c",
     "showTitle": true,
     "tableResultSettingsMap": {},
     "title": "Excluindo a database silver"
    }
   },
   "outputs": [
    {
     "output_type": "display_data",
     "data": {
      "text/html": [
       "<style scoped>\n",
       "  .table-result-container {\n",
       "    max-height: 300px;\n",
       "    overflow: auto;\n",
       "  }\n",
       "  table, th, td {\n",
       "    border: 1px solid black;\n",
       "    border-collapse: collapse;\n",
       "  }\n",
       "  th, td {\n",
       "    padding: 5px;\n",
       "  }\n",
       "  th {\n",
       "    text-align: left;\n",
       "  }\n",
       "</style><div class='table-result-container'><table class='table-result'><thead style='background-color: white'><tr></tr></thead><tbody></tbody></table></div>"
      ]
     },
     "metadata": {
      "application/vnd.databricks.v1+output": {
       "addedWidgets": {},
       "aggData": [],
       "aggError": "",
       "aggOverflow": false,
       "aggSchema": [],
       "aggSeriesLimitReached": false,
       "aggType": "",
       "arguments": {},
       "columnCustomDisplayInfos": {},
       "data": [],
       "datasetInfos": [],
       "dbfsResultPath": null,
       "isJsonSchema": true,
       "metadata": {},
       "overflow": false,
       "plotOptions": {
        "customPlotOptions": {},
        "displayType": "table",
        "pivotAggregation": null,
        "pivotColumns": null,
        "xColumns": null,
        "yColumns": null
       },
       "removedWidgets": [],
       "schema": [],
       "type": "table"
      }
     },
     "output_type": "display_data"
    }
   ],
   "source": [
    "%sql DROP DATABASE silver CASCADE"
   ]
  },
  {
   "cell_type": "code",
   "execution_count": 0,
   "metadata": {
    "application/vnd.databricks.v1+cell": {
     "cellMetadata": {
      "byteLimit": 2048000,
      "implicitDf": true,
      "rowLimit": 10000
     },
     "inputWidgets": {},
     "nuid": "d9305695-de4c-4ed4-b078-a920ef9de0d4",
     "showTitle": true,
     "tableResultSettingsMap": {},
     "title": "Recriando a database Silver"
    }
   },
   "outputs": [
    {
     "output_type": "display_data",
     "data": {
      "text/html": [
       "<style scoped>\n",
       "  .table-result-container {\n",
       "    max-height: 300px;\n",
       "    overflow: auto;\n",
       "  }\n",
       "  table, th, td {\n",
       "    border: 1px solid black;\n",
       "    border-collapse: collapse;\n",
       "  }\n",
       "  th, td {\n",
       "    padding: 5px;\n",
       "  }\n",
       "  th {\n",
       "    text-align: left;\n",
       "  }\n",
       "</style><div class='table-result-container'><table class='table-result'><thead style='background-color: white'><tr></tr></thead><tbody></tbody></table></div>"
      ]
     },
     "metadata": {
      "application/vnd.databricks.v1+output": {
       "addedWidgets": {},
       "aggData": [],
       "aggError": "",
       "aggOverflow": false,
       "aggSchema": [],
       "aggSeriesLimitReached": false,
       "aggType": "",
       "arguments": {},
       "columnCustomDisplayInfos": {},
       "data": [],
       "datasetInfos": [],
       "dbfsResultPath": null,
       "isJsonSchema": true,
       "metadata": {},
       "overflow": false,
       "plotOptions": {
        "customPlotOptions": {},
        "displayType": "table",
        "pivotAggregation": null,
        "pivotColumns": null,
        "xColumns": null,
        "yColumns": null
       },
       "removedWidgets": [],
       "schema": [],
       "type": "table"
      }
     },
     "output_type": "display_data"
    }
   ],
   "source": [
    "%sql CREATE DATABASE silver"
   ]
  },
  {
   "cell_type": "code",
   "execution_count": 0,
   "metadata": {
    "application/vnd.databricks.v1+cell": {
     "cellMetadata": {
      "byteLimit": 2048000,
      "rowLimit": 10000
     },
     "inputWidgets": {},
     "nuid": "e6da6943-f7f1-43a6-aece-e7c3504d31e0",
     "showTitle": true,
     "tableResultSettingsMap": {},
     "title": "Gravando os dados"
    }
   },
   "outputs": [],
   "source": [
    "df_basics.write.mode(\"overwrite\").saveAsTable(\"silver.title_basics\")"
   ]
  },
  {
   "cell_type": "code",
   "execution_count": 0,
   "metadata": {
    "application/vnd.databricks.v1+cell": {
     "cellMetadata": {
      "byteLimit": 2048000,
      "rowLimit": 10000
     },
     "inputWidgets": {},
     "nuid": "e5d24619-c31d-4282-abc3-92f8c0428e08",
     "showTitle": true,
     "tableResultSettingsMap": {},
     "title": "Alterando os tipos de dados da tabela"
    }
   },
   "outputs": [
    {
     "output_type": "stream",
     "name": "stdout",
     "output_type": "stream",
     "text": [
      "Esquema após conversão:\nroot\n |-- tconst: string (nullable = true)\n |-- titleType: string (nullable = true)\n |-- primaryTitle: string (nullable = true)\n |-- originalTitle: string (nullable = true)\n |-- isAdult: integer (nullable = true)\n |-- startYear: integer (nullable = true)\n |-- endYear: integer (nullable = true)\n |-- runtimeMinutes: integer (nullable = true)\n |-- genres: string (nullable = true)\n\n"
     ]
    },
    {
     "output_type": "display_data",
     "data": {
      "text/html": [
       "<style scoped>\n",
       "  .table-result-container {\n",
       "    max-height: 300px;\n",
       "    overflow: auto;\n",
       "  }\n",
       "  table, th, td {\n",
       "    border: 1px solid black;\n",
       "    border-collapse: collapse;\n",
       "  }\n",
       "  th, td {\n",
       "    padding: 5px;\n",
       "  }\n",
       "  th {\n",
       "    text-align: left;\n",
       "  }\n",
       "</style><div class='table-result-container'><table class='table-result'><thead style='background-color: white'><tr><th>tconst</th><th>titleType</th><th>primaryTitle</th><th>originalTitle</th><th>isAdult</th><th>startYear</th><th>endYear</th><th>runtimeMinutes</th><th>genres</th></tr></thead><tbody><tr><td>tt0000001</td><td>short</td><td>Carmencita</td><td>Carmencita</td><td>0</td><td>1894</td><td>null</td><td>1</td><td>Documentary,Short</td></tr><tr><td>tt0000002</td><td>short</td><td>Le clown et ses chiens</td><td>Le clown et ses chiens</td><td>0</td><td>1892</td><td>null</td><td>5</td><td>Animation,Short</td></tr><tr><td>tt0000003</td><td>short</td><td>Poor Pierrot</td><td>Pauvre Pierrot</td><td>0</td><td>1892</td><td>null</td><td>5</td><td>Animation,Comedy,Romance</td></tr><tr><td>tt0000004</td><td>short</td><td>Un bon bock</td><td>Un bon bock</td><td>0</td><td>1892</td><td>null</td><td>12</td><td>Animation,Short</td></tr><tr><td>tt0000005</td><td>short</td><td>Blacksmith Scene</td><td>Blacksmith Scene</td><td>0</td><td>1893</td><td>null</td><td>1</td><td>Short</td></tr></tbody></table></div>"
      ]
     },
     "metadata": {
      "application/vnd.databricks.v1+output": {
       "addedWidgets": {},
       "aggData": [],
       "aggError": "",
       "aggOverflow": false,
       "aggSchema": [],
       "aggSeriesLimitReached": false,
       "aggType": "",
       "arguments": {},
       "columnCustomDisplayInfos": {},
       "data": [
        [
         "tt0000001",
         "short",
         "Carmencita",
         "Carmencita",
         0,
         1894,
         null,
         1,
         "Documentary,Short"
        ],
        [
         "tt0000002",
         "short",
         "Le clown et ses chiens",
         "Le clown et ses chiens",
         0,
         1892,
         null,
         5,
         "Animation,Short"
        ],
        [
         "tt0000003",
         "short",
         "Poor Pierrot",
         "Pauvre Pierrot",
         0,
         1892,
         null,
         5,
         "Animation,Comedy,Romance"
        ],
        [
         "tt0000004",
         "short",
         "Un bon bock",
         "Un bon bock",
         0,
         1892,
         null,
         12,
         "Animation,Short"
        ],
        [
         "tt0000005",
         "short",
         "Blacksmith Scene",
         "Blacksmith Scene",
         0,
         1893,
         null,
         1,
         "Short"
        ]
       ],
       "datasetInfos": [],
       "dbfsResultPath": null,
       "isJsonSchema": true,
       "metadata": {},
       "overflow": false,
       "plotOptions": {
        "customPlotOptions": {},
        "displayType": "table",
        "pivotAggregation": null,
        "pivotColumns": null,
        "xColumns": null,
        "yColumns": null
       },
       "removedWidgets": [],
       "schema": [
        {
         "metadata": "{}",
         "name": "tconst",
         "type": "\"string\""
        },
        {
         "metadata": "{}",
         "name": "titleType",
         "type": "\"string\""
        },
        {
         "metadata": "{}",
         "name": "primaryTitle",
         "type": "\"string\""
        },
        {
         "metadata": "{}",
         "name": "originalTitle",
         "type": "\"string\""
        },
        {
         "metadata": "{}",
         "name": "isAdult",
         "type": "\"integer\""
        },
        {
         "metadata": "{}",
         "name": "startYear",
         "type": "\"integer\""
        },
        {
         "metadata": "{}",
         "name": "endYear",
         "type": "\"integer\""
        },
        {
         "metadata": "{}",
         "name": "runtimeMinutes",
         "type": "\"integer\""
        },
        {
         "metadata": "{}",
         "name": "genres",
         "type": "\"string\""
        }
       ],
       "type": "table"
      }
     },
     "output_type": "display_data"
    }
   ],
   "source": [
    "# Definir as colunas e seus novos tipos\n",
    "# (Ajuste conforme as colunas do seu arquivo)\n",
    "df_converted = df_basics \\\n",
    "    .withColumn(\"tconst\", col(\"tconst\").cast(StringType())) \\\n",
    "    .withColumn(\"titleType\", col(\"titleType\").cast(StringType())) \\\n",
    "    .withColumn(\"primaryTitle\", col(\"primaryTitle\").cast(StringType())) \\\n",
    "    .withColumn(\"originalTitle\", col(\"originalTitle\").cast(StringType())) \\\n",
    "    .withColumn(\"isAdult\",\n",
    "        when(col(\"isAdult\") == \"\\\\N\", None)\n",
    "        .otherwise(col(\"isAdult\").cast(IntegerType()))\n",
    "    ) \\\n",
    "    .withColumn(\"startYear\",\n",
    "        when(col(\"startYear\") == \"\\\\N\", None)\n",
    "        .otherwise(col(\"startYear\").cast(IntegerType()))\n",
    "    ) \\\n",
    "    .withColumn(\"endYear\",\n",
    "        when(col(\"endYear\") == \"\\\\N\", None)\n",
    "        .otherwise(col(\"endYear\").cast(IntegerType()))\n",
    "    ) \\\n",
    "    .withColumn(\"runtimeMinutes\",\n",
    "        when(col(\"runtimeMinutes\") == \"\\\\N\", None)\n",
    "        .otherwise(col(\"runtimeMinutes\").cast(IntegerType()))\n",
    "    ) \\\n",
    "    .withColumn(\"genres\", col(\"genres\").cast(StringType()))\n",
    "\n",
    "# Verificar esquema resultante\n",
    "print(\"Esquema após conversão:\")\n",
    "df_converted.printSchema()\n",
    "\n",
    "# Mostrar amostra dos dados\n",
    "display(df_converted.limit(5))"
   ]
  },
  {
   "cell_type": "markdown",
   "metadata": {
    "application/vnd.databricks.v1+cell": {
     "cellMetadata": {},
     "inputWidgets": {},
     "nuid": "f7a62e41-bd0a-4096-a744-d70c3f2a47a9",
     "showTitle": false,
     "tableResultSettingsMap": {},
     "title": ""
    }
   },
   "source": [
    "Verifiquei que algumas colunas estavam com a classsifficação errada, por isso fiz a alteralçao dos tipos."
   ]
  },
  {
   "cell_type": "code",
   "execution_count": 0,
   "metadata": {
    "application/vnd.databricks.v1+cell": {
     "cellMetadata": {
      "byteLimit": 2048000,
      "implicitDf": true,
      "rowLimit": 10000
     },
     "inputWidgets": {},
     "nuid": "26425d86-fe89-4470-8274-b40083a707b0",
     "showTitle": true,
     "tableResultSettingsMap": {},
     "title": "Tratando a coluna \"isAdult\" e convertendo seus dados"
    }
   },
   "outputs": [
    {
     "output_type": "display_data",
     "data": {
      "text/html": [
       "<style scoped>\n",
       "  .table-result-container {\n",
       "    max-height: 300px;\n",
       "    overflow: auto;\n",
       "  }\n",
       "  table, th, td {\n",
       "    border: 1px solid black;\n",
       "    border-collapse: collapse;\n",
       "  }\n",
       "  th, td {\n",
       "    padding: 5px;\n",
       "  }\n",
       "  th {\n",
       "    text-align: left;\n",
       "  }\n",
       "</style><div class='table-result-container'><table class='table-result'><thead style='background-color: white'><tr><th>tconst</th><th>titleType</th><th>originalTitle</th><th>year</th><th>genres</th><th>isAdult</th></tr></thead><tbody><tr><td>tt0000001</td><td>short</td><td>Carmencita</td><td>1894</td><td>Documentary,Short</td><td>false</td></tr><tr><td>tt0000002</td><td>short</td><td>Le clown et ses chiens</td><td>1892</td><td>Animation,Short</td><td>false</td></tr><tr><td>tt0000003</td><td>short</td><td>Pauvre Pierrot</td><td>1892</td><td>Animation,Comedy,Romance</td><td>false</td></tr><tr><td>tt0000004</td><td>short</td><td>Un bon bock</td><td>1892</td><td>Animation,Short</td><td>false</td></tr><tr><td>tt0000005</td><td>short</td><td>Blacksmith Scene</td><td>1893</td><td>Short</td><td>false</td></tr><tr><td>tt0000006</td><td>short</td><td>Chinese Opium Den</td><td>1894</td><td>Short</td><td>false</td></tr><tr><td>tt0000007</td><td>short</td><td>Corbett and Courtney Before the Kinetograph</td><td>1894</td><td>Short,Sport</td><td>false</td></tr><tr><td>tt0000008</td><td>short</td><td>Edison Kinetoscopic Record of a Sneeze</td><td>1894</td><td>Documentary,Short</td><td>false</td></tr><tr><td>tt0000009</td><td>movie</td><td>Miss Jerry</td><td>1894</td><td>Romance</td><td>false</td></tr><tr><td>tt0000010</td><td>short</td><td>La sortie de l'usine Lumière à Lyon</td><td>1895</td><td>Documentary,Short</td><td>false</td></tr></tbody></table></div>"
      ]
     },
     "metadata": {
      "application/vnd.databricks.v1+output": {
       "addedWidgets": {},
       "aggData": [],
       "aggError": "",
       "aggOverflow": false,
       "aggSchema": [],
       "aggSeriesLimitReached": false,
       "aggType": "",
       "arguments": {},
       "columnCustomDisplayInfos": {},
       "data": [
        [
         "tt0000001",
         "short",
         "Carmencita",
         "1894",
         "Documentary,Short",
         false
        ],
        [
         "tt0000002",
         "short",
         "Le clown et ses chiens",
         "1892",
         "Animation,Short",
         false
        ],
        [
         "tt0000003",
         "short",
         "Pauvre Pierrot",
         "1892",
         "Animation,Comedy,Romance",
         false
        ],
        [
         "tt0000004",
         "short",
         "Un bon bock",
         "1892",
         "Animation,Short",
         false
        ],
        [
         "tt0000005",
         "short",
         "Blacksmith Scene",
         "1893",
         "Short",
         false
        ],
        [
         "tt0000006",
         "short",
         "Chinese Opium Den",
         "1894",
         "Short",
         false
        ],
        [
         "tt0000007",
         "short",
         "Corbett and Courtney Before the Kinetograph",
         "1894",
         "Short,Sport",
         false
        ],
        [
         "tt0000008",
         "short",
         "Edison Kinetoscopic Record of a Sneeze",
         "1894",
         "Documentary,Short",
         false
        ],
        [
         "tt0000009",
         "movie",
         "Miss Jerry",
         "1894",
         "Romance",
         false
        ],
        [
         "tt0000010",
         "short",
         "La sortie de l'usine Lumière à Lyon",
         "1895",
         "Documentary,Short",
         false
        ]
       ],
       "datasetInfos": [],
       "dbfsResultPath": null,
       "isJsonSchema": true,
       "metadata": {},
       "overflow": false,
       "plotOptions": {
        "customPlotOptions": {},
        "displayType": "table",
        "pivotAggregation": null,
        "pivotColumns": null,
        "xColumns": null,
        "yColumns": null
       },
       "removedWidgets": [],
       "schema": [
        {
         "metadata": "{}",
         "name": "tconst",
         "type": "\"string\""
        },
        {
         "metadata": "{}",
         "name": "titleType",
         "type": "\"string\""
        },
        {
         "metadata": "{}",
         "name": "originalTitle",
         "type": "\"string\""
        },
        {
         "metadata": "{}",
         "name": "year",
         "type": "\"string\""
        },
        {
         "metadata": "{}",
         "name": "genres",
         "type": "\"string\""
        },
        {
         "metadata": "{}",
         "name": "isAdult",
         "type": "\"boolean\""
        }
       ],
       "type": "table"
      }
     },
     "output_type": "display_data"
    }
   ],
   "source": [
    "%sql SELECT tconst, titleType, originalTitle, startYear as year, genres,\n",
    "CASE \n",
    "  WHEN isAdult = 1 THEN TRUE\n",
    "  WHEN isAdult = 0 THEN FALSE\n",
    "END AS isAdult\n",
    "FROM silver.title_basics\n",
    "WHERE isAdult = 0 OR isAdult = 1\n",
    "LIMIT 10"
   ]
  },
  {
   "cell_type": "markdown",
   "metadata": {
    "application/vnd.databricks.v1+cell": {
     "cellMetadata": {},
     "inputWidgets": {},
     "nuid": "cca35293-8458-477d-ae93-4e81ad84801c",
     "showTitle": false,
     "tableResultSettingsMap": {},
     "title": ""
    }
   },
   "source": [
    "A coluna isAdult se encaixava no padrao do tipo booleano, entao realizei essa transfformação."
   ]
  },
  {
   "cell_type": "code",
   "execution_count": 0,
   "metadata": {
    "application/vnd.databricks.v1+cell": {
     "cellMetadata": {
      "byteLimit": 2048000,
      "implicitDf": true,
      "rowLimit": 10000
     },
     "inputWidgets": {},
     "nuid": "70abd598-27a8-4684-8c55-5fc0b2bd1b0c",
     "showTitle": false,
     "tableResultSettingsMap": {},
     "title": ""
    }
   },
   "outputs": [
    {
     "output_type": "display_data",
     "data": {
      "text/html": [
       "<style scoped>\n",
       "  .table-result-container {\n",
       "    max-height: 300px;\n",
       "    overflow: auto;\n",
       "  }\n",
       "  table, th, td {\n",
       "    border: 1px solid black;\n",
       "    border-collapse: collapse;\n",
       "  }\n",
       "  th, td {\n",
       "    padding: 5px;\n",
       "  }\n",
       "  th {\n",
       "    text-align: left;\n",
       "  }\n",
       "</style><div class='table-result-container'><table class='table-result'><thead style='background-color: white'><tr><th>num_affected_rows</th><th>num_inserted_rows</th></tr></thead><tbody></tbody></table></div>"
      ]
     },
     "metadata": {
      "application/vnd.databricks.v1+output": {
       "addedWidgets": {},
       "aggData": [],
       "aggError": "",
       "aggOverflow": false,
       "aggSchema": [],
       "aggSeriesLimitReached": false,
       "aggType": "",
       "arguments": {},
       "columnCustomDisplayInfos": {},
       "data": [],
       "datasetInfos": [],
       "dbfsResultPath": null,
       "isJsonSchema": true,
       "metadata": {},
       "overflow": false,
       "plotOptions": {
        "customPlotOptions": {},
        "displayType": "table",
        "pivotAggregation": null,
        "pivotColumns": null,
        "xColumns": null,
        "yColumns": null
       },
       "removedWidgets": [],
       "schema": [
        {
         "metadata": "{}",
         "name": "num_affected_rows",
         "type": "\"long\""
        },
        {
         "metadata": "{}",
         "name": "num_inserted_rows",
         "type": "\"long\""
        }
       ],
       "type": "table"
      }
     },
     "output_type": "display_data"
    }
   ],
   "source": [
    "%sql\n",
    "CREATE OR REPLACE TABLE silver.title_basics_clean AS\n",
    "SELECT tconst, titleType, originalTitle, startYear as year, genres,\n",
    "CASE \n",
    "  WHEN isAdult = 1 THEN TRUE\n",
    "  WHEN isAdult = 0 THEN FALSE\n",
    "END AS isAdult\n",
    "FROM silver.title_basics\n",
    "WHERE isAdult = 0 OR isAdult = 1"
   ]
  },
  {
   "cell_type": "markdown",
   "metadata": {
    "application/vnd.databricks.v1+cell": {
     "cellMetadata": {
      "byteLimit": 2048000,
      "rowLimit": 10000
     },
     "inputWidgets": {},
     "nuid": "bf2440c4-6a46-406f-a69d-fc05a54fce89",
     "showTitle": false,
     "tableResultSettingsMap": {},
     "title": ""
    }
   },
   "source": [
    "Apos a transformação para booleano percebi que alguns valores eram diferentes de 0 ou 1, considerei como inconsistencia da tabela, então nessa etapa atualizei a tabela excluindo esses dados."
   ]
  },
  {
   "cell_type": "code",
   "execution_count": 0,
   "metadata": {
    "application/vnd.databricks.v1+cell": {
     "cellMetadata": {
      "byteLimit": 2048000,
      "implicitDf": true,
      "rowLimit": 10000
     },
     "inputWidgets": {},
     "nuid": "f8808454-5ba8-42a7-af51-0704694db262",
     "showTitle": true,
     "tableResultSettingsMap": {},
     "title": "Visualização da tabela pós tratamento"
    }
   },
   "outputs": [
    {
     "output_type": "display_data",
     "data": {
      "text/html": [
       "<style scoped>\n",
       "  .table-result-container {\n",
       "    max-height: 300px;\n",
       "    overflow: auto;\n",
       "  }\n",
       "  table, th, td {\n",
       "    border: 1px solid black;\n",
       "    border-collapse: collapse;\n",
       "  }\n",
       "  th, td {\n",
       "    padding: 5px;\n",
       "  }\n",
       "  th {\n",
       "    text-align: left;\n",
       "  }\n",
       "</style><div class='table-result-container'><table class='table-result'><thead style='background-color: white'><tr><th>tconst</th><th>titleType</th><th>originalTitle</th><th>year</th><th>genres</th><th>isAdult</th></tr></thead><tbody><tr><td>tt0000001</td><td>short</td><td>Carmencita</td><td>1894</td><td>Documentary,Short</td><td>false</td></tr><tr><td>tt0000002</td><td>short</td><td>Le clown et ses chiens</td><td>1892</td><td>Animation,Short</td><td>false</td></tr><tr><td>tt0000003</td><td>short</td><td>Pauvre Pierrot</td><td>1892</td><td>Animation,Comedy,Romance</td><td>false</td></tr><tr><td>tt0000004</td><td>short</td><td>Un bon bock</td><td>1892</td><td>Animation,Short</td><td>false</td></tr><tr><td>tt0000005</td><td>short</td><td>Blacksmith Scene</td><td>1893</td><td>Short</td><td>false</td></tr><tr><td>tt0000006</td><td>short</td><td>Chinese Opium Den</td><td>1894</td><td>Short</td><td>false</td></tr><tr><td>tt0000007</td><td>short</td><td>Corbett and Courtney Before the Kinetograph</td><td>1894</td><td>Short,Sport</td><td>false</td></tr><tr><td>tt0000008</td><td>short</td><td>Edison Kinetoscopic Record of a Sneeze</td><td>1894</td><td>Documentary,Short</td><td>false</td></tr><tr><td>tt0000009</td><td>movie</td><td>Miss Jerry</td><td>1894</td><td>Romance</td><td>false</td></tr><tr><td>tt0000010</td><td>short</td><td>La sortie de l'usine Lumière à Lyon</td><td>1895</td><td>Documentary,Short</td><td>false</td></tr></tbody></table></div>"
      ]
     },
     "metadata": {
      "application/vnd.databricks.v1+output": {
       "addedWidgets": {},
       "aggData": [],
       "aggError": "",
       "aggOverflow": false,
       "aggSchema": [],
       "aggSeriesLimitReached": false,
       "aggType": "",
       "arguments": {},
       "columnCustomDisplayInfos": {},
       "data": [
        [
         "tt0000001",
         "short",
         "Carmencita",
         "1894",
         "Documentary,Short",
         false
        ],
        [
         "tt0000002",
         "short",
         "Le clown et ses chiens",
         "1892",
         "Animation,Short",
         false
        ],
        [
         "tt0000003",
         "short",
         "Pauvre Pierrot",
         "1892",
         "Animation,Comedy,Romance",
         false
        ],
        [
         "tt0000004",
         "short",
         "Un bon bock",
         "1892",
         "Animation,Short",
         false
        ],
        [
         "tt0000005",
         "short",
         "Blacksmith Scene",
         "1893",
         "Short",
         false
        ],
        [
         "tt0000006",
         "short",
         "Chinese Opium Den",
         "1894",
         "Short",
         false
        ],
        [
         "tt0000007",
         "short",
         "Corbett and Courtney Before the Kinetograph",
         "1894",
         "Short,Sport",
         false
        ],
        [
         "tt0000008",
         "short",
         "Edison Kinetoscopic Record of a Sneeze",
         "1894",
         "Documentary,Short",
         false
        ],
        [
         "tt0000009",
         "movie",
         "Miss Jerry",
         "1894",
         "Romance",
         false
        ],
        [
         "tt0000010",
         "short",
         "La sortie de l'usine Lumière à Lyon",
         "1895",
         "Documentary,Short",
         false
        ]
       ],
       "datasetInfos": [],
       "dbfsResultPath": null,
       "isJsonSchema": true,
       "metadata": {},
       "overflow": false,
       "plotOptions": {
        "customPlotOptions": {},
        "displayType": "table",
        "pivotAggregation": null,
        "pivotColumns": null,
        "xColumns": null,
        "yColumns": null
       },
       "removedWidgets": [],
       "schema": [
        {
         "metadata": "{}",
         "name": "tconst",
         "type": "\"string\""
        },
        {
         "metadata": "{}",
         "name": "titleType",
         "type": "\"string\""
        },
        {
         "metadata": "{}",
         "name": "originalTitle",
         "type": "\"string\""
        },
        {
         "metadata": "{}",
         "name": "year",
         "type": "\"string\""
        },
        {
         "metadata": "{}",
         "name": "genres",
         "type": "\"string\""
        },
        {
         "metadata": "{}",
         "name": "isAdult",
         "type": "\"boolean\""
        }
       ],
       "type": "table"
      }
     },
     "output_type": "display_data"
    }
   ],
   "source": [
    "%sql select * from silver.title_basics_clean\n",
    "limit 10"
   ]
  },
  {
   "cell_type": "code",
   "execution_count": 0,
   "metadata": {
    "application/vnd.databricks.v1+cell": {
     "cellMetadata": {
      "byteLimit": 2048000,
      "implicitDf": true,
      "rowLimit": 10000
     },
     "inputWidgets": {},
     "nuid": "758b0d63-952e-445e-898c-25526561919e",
     "showTitle": true,
     "tableResultSettingsMap": {},
     "title": "Verificação do campo  tratado"
    }
   },
   "outputs": [
    {
     "output_type": "display_data",
     "data": {
      "text/html": [
       "<style scoped>\n",
       "  .table-result-container {\n",
       "    max-height: 300px;\n",
       "    overflow: auto;\n",
       "  }\n",
       "  table, th, td {\n",
       "    border: 1px solid black;\n",
       "    border-collapse: collapse;\n",
       "  }\n",
       "  th, td {\n",
       "    padding: 5px;\n",
       "  }\n",
       "  th {\n",
       "    text-align: left;\n",
       "  }\n",
       "</style><div class='table-result-container'><table class='table-result'><thead style='background-color: white'><tr><th>isAdult</th><th>count(1)</th></tr></thead><tbody><tr><td>true</td><td>374472</td></tr><tr><td>false</td><td>11207116</td></tr></tbody></table></div>"
      ]
     },
     "metadata": {
      "application/vnd.databricks.v1+output": {
       "addedWidgets": {},
       "aggData": [],
       "aggError": "",
       "aggOverflow": false,
       "aggSchema": [],
       "aggSeriesLimitReached": false,
       "aggType": "",
       "arguments": {},
       "columnCustomDisplayInfos": {},
       "data": [
        [
         true,
         374472
        ],
        [
         false,
         11207116
        ]
       ],
       "datasetInfos": [],
       "dbfsResultPath": null,
       "isJsonSchema": true,
       "metadata": {},
       "overflow": false,
       "plotOptions": {
        "customPlotOptions": {},
        "displayType": "table",
        "pivotAggregation": null,
        "pivotColumns": null,
        "xColumns": null,
        "yColumns": null
       },
       "removedWidgets": [],
       "schema": [
        {
         "metadata": "{}",
         "name": "isAdult",
         "type": "\"boolean\""
        },
        {
         "metadata": "{\"__autoGeneratedAlias\":\"true\"}",
         "name": "count(1)",
         "type": "\"long\""
        }
       ],
       "type": "table"
      }
     },
     "output_type": "display_data"
    }
   ],
   "source": [
    "%sql SELECT isAdult, COUNT(*)\n",
    "FROM silver.title_basics_clean\n",
    "GROUP BY isAdult \n"
   ]
  },
  {
   "cell_type": "markdown",
   "metadata": {
    "application/vnd.databricks.v1+cell": {
     "cellMetadata": {},
     "inputWidgets": {},
     "nuid": "f48b0795-c2a6-4b37-b224-2aa2f3f9bb53",
     "showTitle": false,
     "tableResultSettingsMap": {},
     "title": ""
    }
   },
   "source": [
    "Fiz a verificação se de fato so estava considerando as instancias com valor de 0 ou 1.\n"
   ]
  },
  {
   "cell_type": "code",
   "execution_count": 0,
   "metadata": {
    "application/vnd.databricks.v1+cell": {
     "cellMetadata": {},
     "inputWidgets": {},
     "nuid": "9a9d9da0-fbbf-470d-b2c5-8354c15f4c0b",
     "showTitle": false,
     "tableResultSettingsMap": {},
     "title": ""
    }
   },
   "outputs": [],
   "source": [
    "Fiz a verifica"
   ]
  },
  {
   "cell_type": "code",
   "execution_count": 0,
   "metadata": {
    "application/vnd.databricks.v1+cell": {
     "cellMetadata": {
      "byteLimit": 2048000,
      "implicitDf": true,
      "rowLimit": 10000
     },
     "inputWidgets": {},
     "nuid": "a12d32be-68c7-4cdd-bb91-ed029a78f5e4",
     "showTitle": true,
     "tableResultSettingsMap": {},
     "title": "Excluindo o database gold"
    }
   },
   "outputs": [
    {
     "output_type": "display_data",
     "data": {
      "text/html": [
       "<style scoped>\n",
       "  .table-result-container {\n",
       "    max-height: 300px;\n",
       "    overflow: auto;\n",
       "  }\n",
       "  table, th, td {\n",
       "    border: 1px solid black;\n",
       "    border-collapse: collapse;\n",
       "  }\n",
       "  th, td {\n",
       "    padding: 5px;\n",
       "  }\n",
       "  th {\n",
       "    text-align: left;\n",
       "  }\n",
       "</style><div class='table-result-container'><table class='table-result'><thead style='background-color: white'><tr></tr></thead><tbody></tbody></table></div>"
      ]
     },
     "metadata": {
      "application/vnd.databricks.v1+output": {
       "addedWidgets": {},
       "aggData": [],
       "aggError": "",
       "aggOverflow": false,
       "aggSchema": [],
       "aggSeriesLimitReached": false,
       "aggType": "",
       "arguments": {},
       "columnCustomDisplayInfos": {},
       "data": [],
       "datasetInfos": [],
       "dbfsResultPath": null,
       "isJsonSchema": true,
       "metadata": {},
       "overflow": false,
       "plotOptions": {
        "customPlotOptions": {},
        "displayType": "table",
        "pivotAggregation": null,
        "pivotColumns": null,
        "xColumns": null,
        "yColumns": null
       },
       "removedWidgets": [],
       "schema": [],
       "type": "table"
      }
     },
     "output_type": "display_data"
    }
   ],
   "source": [
    "%sql DROP DATABASE gold CASCADE"
   ]
  },
  {
   "cell_type": "code",
   "execution_count": 0,
   "metadata": {
    "application/vnd.databricks.v1+cell": {
     "cellMetadata": {
      "byteLimit": 2048000,
      "implicitDf": true,
      "rowLimit": 10000
     },
     "inputWidgets": {},
     "nuid": "befa3b0e-bc39-419e-b61b-34a31635d580",
     "showTitle": true,
     "tableResultSettingsMap": {},
     "title": "Recriando DataBase Gold"
    }
   },
   "outputs": [
    {
     "output_type": "display_data",
     "data": {
      "text/html": [
       "<style scoped>\n",
       "  .table-result-container {\n",
       "    max-height: 300px;\n",
       "    overflow: auto;\n",
       "  }\n",
       "  table, th, td {\n",
       "    border: 1px solid black;\n",
       "    border-collapse: collapse;\n",
       "  }\n",
       "  th, td {\n",
       "    padding: 5px;\n",
       "  }\n",
       "  th {\n",
       "    text-align: left;\n",
       "  }\n",
       "</style><div class='table-result-container'><table class='table-result'><thead style='background-color: white'><tr></tr></thead><tbody></tbody></table></div>"
      ]
     },
     "metadata": {
      "application/vnd.databricks.v1+output": {
       "addedWidgets": {},
       "aggData": [],
       "aggError": "",
       "aggOverflow": false,
       "aggSchema": [],
       "aggSeriesLimitReached": false,
       "aggType": "",
       "arguments": {},
       "columnCustomDisplayInfos": {},
       "data": [],
       "datasetInfos": [],
       "dbfsResultPath": null,
       "isJsonSchema": true,
       "metadata": {},
       "overflow": false,
       "plotOptions": {
        "customPlotOptions": {},
        "displayType": "table",
        "pivotAggregation": null,
        "pivotColumns": null,
        "xColumns": null,
        "yColumns": null
       },
       "removedWidgets": [],
       "schema": [],
       "type": "table"
      }
     },
     "output_type": "display_data"
    }
   ],
   "source": [
    "%sql CREATE DATABASE gold"
   ]
  },
  {
   "cell_type": "code",
   "execution_count": 0,
   "metadata": {
    "application/vnd.databricks.v1+cell": {
     "cellMetadata": {
      "byteLimit": 2048000,
      "implicitDf": true,
      "rowLimit": 10000
     },
     "inputWidgets": {},
     "nuid": "f9278e4f-716b-449d-a5ea-5bb1273f1e21",
     "showTitle": true,
     "tableResultSettingsMap": {},
     "title": "Criando Tabela Flat"
    }
   },
   "outputs": [
    {
     "output_type": "display_data",
     "data": {
      "text/html": [
       "<style scoped>\n",
       "  .table-result-container {\n",
       "    max-height: 300px;\n",
       "    overflow: auto;\n",
       "  }\n",
       "  table, th, td {\n",
       "    border: 1px solid black;\n",
       "    border-collapse: collapse;\n",
       "  }\n",
       "  th, td {\n",
       "    padding: 5px;\n",
       "  }\n",
       "  th {\n",
       "    text-align: left;\n",
       "  }\n",
       "</style><div class='table-result-container'><table class='table-result'><thead style='background-color: white'><tr><th>num_affected_rows</th><th>num_inserted_rows</th></tr></thead><tbody></tbody></table></div>"
      ]
     },
     "metadata": {
      "application/vnd.databricks.v1+output": {
       "addedWidgets": {},
       "aggData": [],
       "aggError": "",
       "aggOverflow": false,
       "aggSchema": [],
       "aggSeriesLimitReached": false,
       "aggType": "",
       "arguments": {},
       "columnCustomDisplayInfos": {},
       "data": [],
       "datasetInfos": [],
       "dbfsResultPath": null,
       "isJsonSchema": true,
       "metadata": {},
       "overflow": false,
       "plotOptions": {
        "customPlotOptions": {},
        "displayType": "table",
        "pivotAggregation": null,
        "pivotColumns": null,
        "xColumns": null,
        "yColumns": null
       },
       "removedWidgets": [],
       "schema": [
        {
         "metadata": "{}",
         "name": "num_affected_rows",
         "type": "\"long\""
        },
        {
         "metadata": "{}",
         "name": "num_inserted_rows",
         "type": "\"long\""
        }
       ],
       "type": "table"
      }
     },
     "output_type": "display_data"
    }
   ],
   "source": [
    "%sql  CREATE TABLE gold.films_rating\n",
    "SELECT \n",
    "    b.*, \n",
    "    r.averageRating, \n",
    "    r.numVotes\n",
    "FROM \n",
    "    silver.title_basics_clean as b\n",
    "INNER JOIN \n",
    "    bronze.title_ratings as r\n",
    "ON \n",
    "    b.tconst = r.tconst"
   ]
  },
  {
   "cell_type": "markdown",
   "metadata": {
    "application/vnd.databricks.v1+cell": {
     "cellMetadata": {},
     "inputWidgets": {},
     "nuid": "b7cea0b6-fcf3-4ed1-ad5e-6132d49dd718",
     "showTitle": false,
     "tableResultSettingsMap": {},
     "title": ""
    }
   },
   "source": [
    "O modelo de dados escolhido foi a junção das duas tabelas criando uma tabela flat.\n",
    "\n"
   ]
  },
  {
   "cell_type": "code",
   "execution_count": 0,
   "metadata": {
    "application/vnd.databricks.v1+cell": {
     "cellMetadata": {
      "byteLimit": 2048000,
      "implicitDf": true,
      "rowLimit": 10000
     },
     "inputWidgets": {},
     "nuid": "79a1caee-ea6d-404b-8b7a-f5c1e9c519d0",
     "showTitle": true,
     "tableResultSettingsMap": {},
     "title": "Incluindo a coluna de Decada"
    }
   },
   "outputs": [
    {
     "output_type": "display_data",
     "data": {
      "text/html": [
       "<style scoped>\n",
       "  .table-result-container {\n",
       "    max-height: 300px;\n",
       "    overflow: auto;\n",
       "  }\n",
       "  table, th, td {\n",
       "    border: 1px solid black;\n",
       "    border-collapse: collapse;\n",
       "  }\n",
       "  th, td {\n",
       "    padding: 5px;\n",
       "  }\n",
       "  th {\n",
       "    text-align: left;\n",
       "  }\n",
       "</style><div class='table-result-container'><table class='table-result'><thead style='background-color: white'><tr><th>num_affected_rows</th><th>num_inserted_rows</th></tr></thead><tbody></tbody></table></div>"
      ]
     },
     "metadata": {
      "application/vnd.databricks.v1+output": {
       "addedWidgets": {},
       "aggData": [],
       "aggError": "",
       "aggOverflow": false,
       "aggSchema": [],
       "aggSeriesLimitReached": false,
       "aggType": "",
       "arguments": {},
       "columnCustomDisplayInfos": {},
       "data": [],
       "datasetInfos": [],
       "dbfsResultPath": null,
       "isJsonSchema": true,
       "metadata": {},
       "overflow": false,
       "plotOptions": {
        "customPlotOptions": {},
        "displayType": "table",
        "pivotAggregation": null,
        "pivotColumns": null,
        "xColumns": null,
        "yColumns": null
       },
       "removedWidgets": [],
       "schema": [
        {
         "metadata": "{}",
         "name": "num_affected_rows",
         "type": "\"long\""
        },
        {
         "metadata": "{}",
         "name": "num_inserted_rows",
         "type": "\"long\""
        }
       ],
       "type": "table"
      }
     },
     "output_type": "display_data"
    }
   ],
   "source": [
    "%sql\n",
    "CREATE OR REPLACE TABLE gold.films_rating_with_decade AS\n",
    "SELECT \n",
    "  *, \n",
    "  FLOOR(year / 10) * 10 AS decade\n",
    "FROM gold.films_rating;"
   ]
  },
  {
   "cell_type": "markdown",
   "metadata": {
    "application/vnd.databricks.v1+cell": {
     "cellMetadata": {},
     "inputWidgets": {},
     "nuid": "7720a6f6-8215-40f0-b48a-72379b74198d",
     "showTitle": false,
     "tableResultSettingsMap": {},
     "title": ""
    }
   },
   "source": [
    "Foi criada a coluna de decada para apoiar as analises e responder as perguntas propostas no projeto."
   ]
  },
  {
   "cell_type": "code",
   "execution_count": 0,
   "metadata": {
    "application/vnd.databricks.v1+cell": {
     "cellMetadata": {
      "byteLimit": 2048000,
      "implicitDf": true,
      "rowLimit": 10000
     },
     "inputWidgets": {},
     "nuid": "8847f8c2-67a3-44d1-b7ca-ccc16eb3d79b",
     "showTitle": true,
     "tableResultSettingsMap": {},
     "title": "Verificação de nulos"
    }
   },
   "outputs": [
    {
     "output_type": "display_data",
     "data": {
      "text/html": [
       "<style scoped>\n",
       "  .table-result-container {\n",
       "    max-height: 300px;\n",
       "    overflow: auto;\n",
       "  }\n",
       "  table, th, td {\n",
       "    border: 1px solid black;\n",
       "    border-collapse: collapse;\n",
       "  }\n",
       "  th, td {\n",
       "    padding: 5px;\n",
       "  }\n",
       "  th {\n",
       "    text-align: left;\n",
       "  }\n",
       "</style><div class='table-result-container'><table class='table-result'><thead style='background-color: white'><tr><th>tconst</th><th>titleType</th><th>originalTitle</th><th>year</th><th>genres</th><th>isAdult</th><th>averageRating</th><th>numVotes</th><th>decade</th></tr></thead><tbody><tr><td>tt0219466</td><td>movie</td><td>90° South</td><td>\\N</td><td>Documentary</td><td>false</td><td>7.4</td><td>206</td><td>null</td></tr><tr><td>tt10409788</td><td>tvSeries</td><td>Power Panda Posse</td><td>\\N</td><td>Animation</td><td>false</td><td>8.0</td><td>7</td><td>null</td></tr><tr><td>tt10951260</td><td>tvEpisode</td><td>Prequels, Sequels, and How the New \"Dark Crystal\" Fits In</td><td>\\N</td><td>News,Short</td><td>false</td><td>6.8</td><td>14</td><td>null</td></tr><tr><td>tt12152386</td><td>tvEpisode</td><td>Lost and found</td><td>\\N</td><td>Drama,Sci-Fi,Thriller</td><td>false</td><td>9.6</td><td>7</td><td>null</td></tr><tr><td>tt12333526</td><td>tvMovie</td><td>Crime dans l'Hérault</td><td>\\N</td><td>Crime,Thriller</td><td>false</td><td>6.4</td><td>75</td><td>null</td></tr><tr><td>tt13106696</td><td>movie</td><td>Quel che conta è il pensiero</td><td>\\N</td><td>Comedy,Drama</td><td>false</td><td>6.6</td><td>12</td><td>null</td></tr><tr><td>tt13226480</td><td>tvSeries</td><td>WorkInProgress: A Comedy Web-Series</td><td>\\N</td><td>Comedy</td><td>false</td><td>8.5</td><td>6</td><td>null</td></tr><tr><td>tt14301868</td><td>tvEpisode</td><td>From Largo Theatre Howie Mandel</td><td>\\N</td><td>Comedy,Music,Talk-Show</td><td>false</td><td>8.4</td><td>10</td><td>null</td></tr><tr><td>tt19357774</td><td>tvEpisode</td><td>Ray Romano/Brooklyn Decker/Joy Downer</td><td>\\N</td><td>Comedy,Talk-Show</td><td>false</td><td>6.8</td><td>8</td><td>null</td></tr><tr><td>tt19853122</td><td>tvEpisode</td><td>Norman Reedus/Paula Pell/Michael 'Beeple' Winkelmann/The Linda Lindas</td><td>\\N</td><td>Comedy,Music,Talk-Show</td><td>false</td><td>6.8</td><td>14</td><td>null</td></tr></tbody></table></div>"
      ]
     },
     "metadata": {
      "application/vnd.databricks.v1+output": {
       "addedWidgets": {},
       "aggData": [],
       "aggError": "",
       "aggOverflow": false,
       "aggSchema": [],
       "aggSeriesLimitReached": false,
       "aggType": "",
       "arguments": {},
       "columnCustomDisplayInfos": {},
       "data": [
        [
         "tt0219466",
         "movie",
         "90° South",
         "\\N",
         "Documentary",
         false,
         7.4,
         206,
         null
        ],
        [
         "tt10409788",
         "tvSeries",
         "Power Panda Posse",
         "\\N",
         "Animation",
         false,
         8.0,
         7,
         null
        ],
        [
         "tt10951260",
         "tvEpisode",
         "Prequels, Sequels, and How the New \"Dark Crystal\" Fits In",
         "\\N",
         "News,Short",
         false,
         6.8,
         14,
         null
        ],
        [
         "tt12152386",
         "tvEpisode",
         "Lost and found",
         "\\N",
         "Drama,Sci-Fi,Thriller",
         false,
         9.6,
         7,
         null
        ],
        [
         "tt12333526",
         "tvMovie",
         "Crime dans l'Hérault",
         "\\N",
         "Crime,Thriller",
         false,
         6.4,
         75,
         null
        ],
        [
         "tt13106696",
         "movie",
         "Quel che conta è il pensiero",
         "\\N",
         "Comedy,Drama",
         false,
         6.6,
         12,
         null
        ],
        [
         "tt13226480",
         "tvSeries",
         "WorkInProgress: A Comedy Web-Series",
         "\\N",
         "Comedy",
         false,
         8.5,
         6,
         null
        ],
        [
         "tt14301868",
         "tvEpisode",
         "From Largo Theatre Howie Mandel",
         "\\N",
         "Comedy,Music,Talk-Show",
         false,
         8.4,
         10,
         null
        ],
        [
         "tt19357774",
         "tvEpisode",
         "Ray Romano/Brooklyn Decker/Joy Downer",
         "\\N",
         "Comedy,Talk-Show",
         false,
         6.8,
         8,
         null
        ],
        [
         "tt19853122",
         "tvEpisode",
         "Norman Reedus/Paula Pell/Michael 'Beeple' Winkelmann/The Linda Lindas",
         "\\N",
         "Comedy,Music,Talk-Show",
         false,
         6.8,
         14,
         null
        ]
       ],
       "datasetInfos": [],
       "dbfsResultPath": null,
       "isJsonSchema": true,
       "metadata": {},
       "overflow": false,
       "plotOptions": {
        "customPlotOptions": {},
        "displayType": "table",
        "pivotAggregation": null,
        "pivotColumns": null,
        "xColumns": null,
        "yColumns": null
       },
       "removedWidgets": [],
       "schema": [
        {
         "metadata": "{}",
         "name": "tconst",
         "type": "\"string\""
        },
        {
         "metadata": "{}",
         "name": "titleType",
         "type": "\"string\""
        },
        {
         "metadata": "{}",
         "name": "originalTitle",
         "type": "\"string\""
        },
        {
         "metadata": "{}",
         "name": "year",
         "type": "\"string\""
        },
        {
         "metadata": "{}",
         "name": "genres",
         "type": "\"string\""
        },
        {
         "metadata": "{}",
         "name": "isAdult",
         "type": "\"boolean\""
        },
        {
         "metadata": "{}",
         "name": "averageRating",
         "type": "\"double\""
        },
        {
         "metadata": "{}",
         "name": "numVotes",
         "type": "\"integer\""
        },
        {
         "metadata": "{}",
         "name": "decade",
         "type": "\"long\""
        }
       ],
       "type": "table"
      }
     },
     "output_type": "display_data"
    }
   ],
   "source": [
    "%sql\n",
    "SELECT \n",
    "  * \n",
    "FROM gold.films_rating_with_decade\n",
    "  where decade  is null\n",
    "LIMIT 10;"
   ]
  },
  {
   "cell_type": "markdown",
   "metadata": {
    "application/vnd.databricks.v1+cell": {
     "cellMetadata": {},
     "inputWidgets": {},
     "nuid": "a9415daf-0daf-4f84-8600-42c60e6e89a4",
     "showTitle": false,
     "tableResultSettingsMap": {},
     "title": ""
    }
   },
   "source": [
    "Após a criação observei que havia anos sem preenchimento, então tratei novamente a tabela deixando de fora esses registros."
   ]
  },
  {
   "cell_type": "code",
   "execution_count": 0,
   "metadata": {
    "application/vnd.databricks.v1+cell": {
     "cellMetadata": {
      "byteLimit": 2048000,
      "implicitDf": true,
      "rowLimit": 10000
     },
     "inputWidgets": {},
     "nuid": "b64696a5-7c35-4574-b216-bd4539bd7db4",
     "showTitle": true,
     "tableResultSettingsMap": {},
     "title": "Grafico Analise - Pergunta 1.\tA nota média de filmes varia ao longo das décadas"
    }
   },
   "outputs": [
    {
     "output_type": "display_data",
     "data": {
      "text/html": [
       "<style scoped>\n",
       "  .table-result-container {\n",
       "    max-height: 300px;\n",
       "    overflow: auto;\n",
       "  }\n",
       "  table, th, td {\n",
       "    border: 1px solid black;\n",
       "    border-collapse: collapse;\n",
       "  }\n",
       "  th, td {\n",
       "    padding: 5px;\n",
       "  }\n",
       "  th {\n",
       "    text-align: left;\n",
       "  }\n",
       "</style><div class='table-result-container'><table class='table-result'><thead style='background-color: white'><tr><th>decade</th><th>avg_rating</th><th>num_movies</th></tr></thead><tbody><tr><td>1870</td><td>5.3687499999999995</td><td>32</td></tr><tr><td>1880</td><td>4.947500000000001</td><td>80</td></tr><tr><td>1890</td><td>4.60161472024033</td><td>2663</td></tr><tr><td>1900</td><td>5.07051282051282</td><td>3276</td></tr><tr><td>1910</td><td>5.722336668628608</td><td>6796</td></tr><tr><td>1920</td><td>6.008565279770443</td><td>6970</td></tr><tr><td>1930</td><td>6.038790391764371</td><td>13988</td></tr><tr><td>1940</td><td>6.176289816061014</td><td>13374</td></tr><tr><td>1950</td><td>6.708395030345397</td><td>31471</td></tr><tr><td>1960</td><td>6.824401753864444</td><td>53824</td></tr><tr><td>1970</td><td>6.6767127200565275</td><td>66517</td></tr><tr><td>1980</td><td>6.660952821997098</td><td>86375</td></tr><tr><td>1990</td><td>6.812717963116209</td><td>135344</td></tr><tr><td>2000</td><td>6.901546544847713</td><td>282824</td></tr><tr><td>2010</td><td>7.0811681335941</td><td>539904</td></tr><tr><td>2020</td><td>7.175165607247839</td><td>313694</td></tr></tbody></table></div>"
      ]
     },
     "metadata": {
      "application/vnd.databricks.v1+output": {
       "addedWidgets": {},
       "aggData": [],
       "aggError": "",
       "aggOverflow": false,
       "aggSchema": [],
       "aggSeriesLimitReached": false,
       "aggType": "",
       "arguments": {},
       "columnCustomDisplayInfos": {},
       "data": [
        [
         1870,
         5.3687499999999995,
         32
        ],
        [
         1880,
         4.947500000000001,
         80
        ],
        [
         1890,
         4.60161472024033,
         2663
        ],
        [
         1900,
         5.07051282051282,
         3276
        ],
        [
         1910,
         5.722336668628608,
         6796
        ],
        [
         1920,
         6.008565279770443,
         6970
        ],
        [
         1930,
         6.038790391764371,
         13988
        ],
        [
         1940,
         6.176289816061014,
         13374
        ],
        [
         1950,
         6.708395030345397,
         31471
        ],
        [
         1960,
         6.824401753864444,
         53824
        ],
        [
         1970,
         6.6767127200565275,
         66517
        ],
        [
         1980,
         6.660952821997098,
         86375
        ],
        [
         1990,
         6.812717963116209,
         135344
        ],
        [
         2000,
         6.901546544847713,
         282824
        ],
        [
         2010,
         7.0811681335941,
         539904
        ],
        [
         2020,
         7.175165607247839,
         313694
        ]
       ],
       "datasetInfos": [],
       "dbfsResultPath": null,
       "isJsonSchema": true,
       "metadata": {},
       "overflow": false,
       "plotOptions": {
        "customPlotOptions": {},
        "displayType": "table",
        "pivotAggregation": null,
        "pivotColumns": null,
        "xColumns": null,
        "yColumns": null
       },
       "removedWidgets": [],
       "schema": [
        {
         "metadata": "{}",
         "name": "decade",
         "type": "\"long\""
        },
        {
         "metadata": "{}",
         "name": "avg_rating",
         "type": "\"double\""
        },
        {
         "metadata": "{}",
         "name": "num_movies",
         "type": "\"long\""
        }
       ],
       "type": "table"
      }
     },
     "output_type": "display_data"
    },
    {
     "output_type": "display_data",
     "data": {
      "text/plain": [
       "Databricks visualization. Run in Databricks to view."
      ]
     },
     "metadata": {
      "application/vnd.databricks.v1.subcommand+json": {
       "baseErrorDetails": null,
       "bindings": {},
       "collapsed": false,
       "command": "%sql WITH q AS (SELECT \n  decade,\n  AVG(averageRating) AS avg_rating,\n  COUNT(*) AS num_movies\nFROM gold.films_rating_with_decade \nWHERE decade is not null\nGROUP BY decade\nORDER BY decade) SELECT `decade`,AVG(`avg_rating`) `column_20d5c14757` FROM q GROUP BY `decade`",
       "commandTitle": "Visualization 1",
       "commandType": "auto",
       "commandVersion": 0,
       "commentThread": [],
       "commentsVisible": false,
       "contentSha256Hex": null,
       "customPlotOptions": {
        "redashChart": [
         {
          "key": "type",
          "value": "CHART"
         },
         {
          "key": "options",
          "value": {
           "alignYAxesAtZero": true,
           "coefficient": 1,
           "columnConfigurationMap": {
            "x": {
             "column": "decade",
             "id": "column_20d5c14755"
            },
            "y": [
             {
              "column": "avg_rating",
              "id": "column_20d5c14757",
              "transform": "AVG"
             }
            ]
           },
           "dateTimeFormat": "DD/MM/YYYY HH:mm",
           "direction": {
            "type": "counterclockwise"
           },
           "error_y": {
            "type": "data",
            "visible": true
           },
           "globalSeriesType": "line",
           "isAggregationOn": true,
           "legend": {
            "traceorder": "normal"
           },
           "missingValuesAsZero": true,
           "numberFormat": "0,0.[00000]",
           "percentFormat": "0[.]00%",
           "series": {
            "error_y": {
             "type": "data",
             "visible": true
            },
            "percentValues": false,
            "stacking": null
           },
           "seriesOptions": {
            "column_20d5c14757": {
             "type": "line",
             "yAxis": 0
            }
           },
           "showDataLabels": false,
           "sizemode": "diameter",
           "sortX": true,
           "sortY": true,
           "swappedAxes": false,
           "textFormat": "",
           "useAggregationsUi": true,
           "valuesOptions": {},
           "version": 2,
           "xAxis": {
            "labels": {
             "enabled": true
            },
            "type": "-"
           },
           "yAxis": [
            {
             "type": "-"
            },
            {
             "opposite": true,
             "type": "-"
            }
           ]
          }
         }
        ]
       },
       "datasetPreviewNameToCmdIdMap": {},
       "diffDeletes": [],
       "diffInserts": [],
       "displayType": "redashChart",
       "error": null,
       "errorDetails": null,
       "errorSummary": null,
       "errorTraceType": null,
       "finishTime": 0,
       "globalVars": {},
       "guid": "",
       "height": "auto",
       "hideCommandCode": false,
       "hideCommandResult": false,
       "iPythonMetadata": null,
       "inputWidgets": {},
       "isLockedInExamMode": false,
       "latestUser": "a user",
       "latestUserId": null,
       "listResultMetadata": null,
       "metadata": {},
       "nuid": "fc8ef13d-5298-4e82-9e3f-eb767387205f",
       "origId": 0,
       "parentHierarchy": [],
       "pivotAggregation": null,
       "pivotColumns": null,
       "position": 14.0,
       "resultDbfsErrorMessage": null,
       "resultDbfsStatus": "INLINED_IN_TREE",
       "results": null,
       "showCommandTitle": false,
       "startTime": 0,
       "state": "input",
       "streamStates": {},
       "subcommandOptions": {
        "queryPlan": {
         "groups": [
          {
           "column": "decade",
           "type": "column"
          }
         ],
         "selects": [
          {
           "column": "decade",
           "type": "column"
          },
          {
           "alias": "column_20d5c14757",
           "args": [
            {
             "column": "avg_rating",
             "type": "column"
            }
           ],
           "function": "AVG",
           "type": "function"
          }
         ]
        }
       },
       "submitTime": 0,
       "subtype": "tableResultSubCmd.visualization",
       "tableResultIndex": 0,
       "tableResultSettingsMap": {},
       "useConsistentColors": false,
       "version": "CommandV1",
       "width": "auto",
       "workflows": [],
       "xColumns": null,
       "yColumns": null
      }
     },
     "output_type": "display_data"
    }
   ],
   "source": [
    "%sql\n",
    "SELECT \n",
    "  decade,\n",
    "  AVG(averageRating) AS avg_rating,\n",
    "  COUNT(*) AS num_movies\n",
    "FROM gold.films_rating_with_decade \n",
    "WHERE decade is not null\n",
    "GROUP BY decade\n",
    "ORDER BY decade"
   ]
  },
  {
   "cell_type": "markdown",
   "metadata": {
    "application/vnd.databricks.v1+cell": {
     "cellMetadata": {},
     "inputWidgets": {},
     "nuid": "4b59f2f7-3f85-4be2-a36a-4ccb897494e3",
     "showTitle": false,
     "tableResultSettingsMap": {},
     "title": ""
    }
   },
   "source": [
    "1.\tA nota média de filmes varia ao longo das décadas?\n",
    "R: Sim, podemos  observar que a média de notas foi crescendo com o passar do tempo.\n",
    "Alguns dos motivos se da pelo avanço tecnologico, a popularização e disseminação do  cinema no mundo, alem do aumento na produção de filmes e o acesso do publico."
   ]
  },
  {
   "cell_type": "code",
   "execution_count": 0,
   "metadata": {
    "application/vnd.databricks.v1+cell": {
     "cellMetadata": {
      "byteLimit": 2048000,
      "implicitDf": true,
      "rowLimit": 10000
     },
     "inputWidgets": {},
     "nuid": "0d89b0d3-15bd-4bd6-a955-d8cf7fc11ea0",
     "showTitle": true,
     "tableResultSettingsMap": {},
     "title": "Analise - Pergunta 2 Nota média por década."
    }
   },
   "outputs": [
    {
     "output_type": "display_data",
     "data": {
      "text/html": [
       "<style scoped>\n",
       "  .table-result-container {\n",
       "    max-height: 300px;\n",
       "    overflow: auto;\n",
       "  }\n",
       "  table, th, td {\n",
       "    border: 1px solid black;\n",
       "    border-collapse: collapse;\n",
       "  }\n",
       "  th, td {\n",
       "    padding: 5px;\n",
       "  }\n",
       "  th {\n",
       "    text-align: left;\n",
       "  }\n",
       "</style><div class='table-result-container'><table class='table-result'><thead style='background-color: white'><tr><th>decade</th><th>avg_rating</th><th>num_movies</th></tr></thead><tbody><tr><td>1870</td><td>5.3687499999999995</td><td>32</td></tr><tr><td>1880</td><td>4.947500000000001</td><td>80</td></tr><tr><td>1890</td><td>4.60161472024033</td><td>2663</td></tr><tr><td>1900</td><td>5.07051282051282</td><td>3276</td></tr><tr><td>1910</td><td>5.722336668628608</td><td>6796</td></tr><tr><td>1920</td><td>6.008565279770443</td><td>6970</td></tr><tr><td>1930</td><td>6.038790391764371</td><td>13988</td></tr><tr><td>1940</td><td>6.176289816061014</td><td>13374</td></tr><tr><td>1950</td><td>6.708395030345397</td><td>31471</td></tr><tr><td>1960</td><td>6.824401753864444</td><td>53824</td></tr><tr><td>1970</td><td>6.6767127200565275</td><td>66517</td></tr><tr><td>1980</td><td>6.660952821997098</td><td>86375</td></tr><tr><td>1990</td><td>6.812717963116209</td><td>135344</td></tr><tr><td>2000</td><td>6.901546544847713</td><td>282824</td></tr><tr><td>2010</td><td>7.0811681335941</td><td>539904</td></tr><tr><td>2020</td><td>7.175165607247839</td><td>313694</td></tr></tbody></table></div>"
      ]
     },
     "metadata": {
      "application/vnd.databricks.v1+output": {
       "addedWidgets": {},
       "aggData": [],
       "aggError": "",
       "aggOverflow": false,
       "aggSchema": [],
       "aggSeriesLimitReached": false,
       "aggType": "",
       "arguments": {},
       "columnCustomDisplayInfos": {},
       "data": [
        [
         1870,
         5.3687499999999995,
         32
        ],
        [
         1880,
         4.947500000000001,
         80
        ],
        [
         1890,
         4.60161472024033,
         2663
        ],
        [
         1900,
         5.07051282051282,
         3276
        ],
        [
         1910,
         5.722336668628608,
         6796
        ],
        [
         1920,
         6.008565279770443,
         6970
        ],
        [
         1930,
         6.038790391764371,
         13988
        ],
        [
         1940,
         6.176289816061014,
         13374
        ],
        [
         1950,
         6.708395030345397,
         31471
        ],
        [
         1960,
         6.824401753864444,
         53824
        ],
        [
         1970,
         6.6767127200565275,
         66517
        ],
        [
         1980,
         6.660952821997098,
         86375
        ],
        [
         1990,
         6.812717963116209,
         135344
        ],
        [
         2000,
         6.901546544847713,
         282824
        ],
        [
         2010,
         7.0811681335941,
         539904
        ],
        [
         2020,
         7.175165607247839,
         313694
        ]
       ],
       "datasetInfos": [],
       "dbfsResultPath": null,
       "isJsonSchema": true,
       "metadata": {},
       "overflow": false,
       "plotOptions": {
        "customPlotOptions": {},
        "displayType": "table",
        "pivotAggregation": null,
        "pivotColumns": null,
        "xColumns": null,
        "yColumns": null
       },
       "removedWidgets": [],
       "schema": [
        {
         "metadata": "{}",
         "name": "decade",
         "type": "\"long\""
        },
        {
         "metadata": "{}",
         "name": "avg_rating",
         "type": "\"double\""
        },
        {
         "metadata": "{}",
         "name": "num_movies",
         "type": "\"long\""
        }
       ],
       "type": "table"
      }
     },
     "output_type": "display_data"
    }
   ],
   "source": [
    "%sql\n",
    "SELECT \n",
    "  decade,\n",
    "  AVG(averageRating) AS avg_rating,\n",
    "  COUNT(*) AS num_movies\n",
    "FROM gold.films_rating_with_decade \n",
    "WHERE decade is not null\n",
    "GROUP BY decade\n",
    "ORDER BY decade"
   ]
  },
  {
   "cell_type": "markdown",
   "metadata": {
    "application/vnd.databricks.v1+cell": {
     "cellMetadata": {},
     "inputWidgets": {},
     "nuid": "321030c1-1aa0-48d1-bb94-2ba5c44a8974",
     "showTitle": false,
     "tableResultSettingsMap": {},
     "title": ""
    }
   },
   "source": [
    "A tabela mostra o resultado para a segunda pergunta de nota media por decada.\n"
   ]
  },
  {
   "cell_type": "code",
   "execution_count": 0,
   "metadata": {
    "application/vnd.databricks.v1+cell": {
     "cellMetadata": {
      "byteLimit": 2048000,
      "rowLimit": 10000
     },
     "inputWidgets": {},
     "nuid": "72093bfe-23e1-4d2e-be7a-a7d6a491352a",
     "showTitle": true,
     "tableResultSettingsMap": {},
     "title": "Colocando relacionamento dos filmes com o genero"
    }
   },
   "outputs": [
    {
     "output_type": "stream",
     "name": "stdout",
     "output_type": "stream",
     "text": [
      "+---------+---------+-----------------+----+-----------------+-------+-------------+--------+------+-----------+\n|   tconst|titleType|    originalTitle|year|           genres|isAdult|averageRating|numVotes|decade|      genre|\n+---------+---------+-----------------+----+-----------------+-------+-------------+--------+------+-----------+\n|tt0000014|    short|L'arroseur arrosé|1895|     Comedy,Short|  false|          7.1|    6142|  1890|     Comedy|\n|tt0000014|    short|L'arroseur arrosé|1895|     Comedy,Short|  false|          7.1|    6142|  1890|      Short|\n|tt0000023|    short|  Baignade en mer|1895|Documentary,Short|  false|          5.7|    1585|  1890|Documentary|\n|tt0000023|    short|  Baignade en mer|1895|Documentary,Short|  false|          5.7|    1585|  1890|      Short|\n|tt0000044|    short|       Le bivouac|1896|            Short|  false|          4.1|      57|  1890|      Short|\n+---------+---------+-----------------+----+-----------------+-------+-------------+--------+------+-----------+\nonly showing top 5 rows\n\n"
     ]
    }
   ],
   "source": [
    "# Explodindo a coluna 'genres' \n",
    " # Lê a tabela do catálogo\n",
    "df = spark.table(\"gold.films_rating_with_decade\")\n",
    "\n",
    "# Explode os gêneros\n",
    "df_genres_exploded = df.withColumn(\n",
    "    \"genre\", \n",
    "    explode(split(col(\"genres\"), \",\"))\n",
    ")\n",
    "\n",
    "# Mostra os resultados\n",
    "df_genres_exploded.show(5)"
   ]
  },
  {
   "cell_type": "code",
   "execution_count": 0,
   "metadata": {
    "application/vnd.databricks.v1+cell": {
     "cellMetadata": {
      "byteLimit": 2048000,
      "rowLimit": 10000
     },
     "inputWidgets": {},
     "nuid": "0b915879-be02-4f77-b1ad-27db348298eb",
     "showTitle": true,
     "tableResultSettingsMap": {},
     "title": "Salvando a tabela pós edição"
    }
   },
   "outputs": [],
   "source": [
    "df_genres_exploded.write.mode(\"overwrite\").saveAsTable(\"gold.films_genres_exploded\")\n",
    "\n"
   ]
  },
  {
   "cell_type": "code",
   "execution_count": 0,
   "metadata": {
    "application/vnd.databricks.v1+cell": {
     "cellMetadata": {
      "byteLimit": 2048000,
      "implicitDf": true,
      "rowLimit": 10000
     },
     "inputWidgets": {},
     "nuid": "784333f6-4a08-4fd6-9f85-8540dcb30e5d",
     "showTitle": true,
     "tableResultSettingsMap": {},
     "title": "Analise - Pergunta 3: Qual gênero mais se destacou em cada década"
    }
   },
   "outputs": [
    {
     "output_type": "display_data",
     "data": {
      "text/html": [
       "<style scoped>\n",
       "  .table-result-container {\n",
       "    max-height: 300px;\n",
       "    overflow: auto;\n",
       "  }\n",
       "  table, th, td {\n",
       "    border: 1px solid black;\n",
       "    border-collapse: collapse;\n",
       "  }\n",
       "  th, td {\n",
       "    padding: 5px;\n",
       "  }\n",
       "  th {\n",
       "    text-align: left;\n",
       "  }\n",
       "</style><div class='table-result-container'><table class='table-result'><thead style='background-color: white'><tr><th>decade</th><th>genre</th><th>total_films</th><th>genre_rank</th></tr></thead><tbody><tr><td>1870</td><td>Short</td><td>32</td><td>1</td></tr><tr><td>1880</td><td>Short</td><td>79</td><td>1</td></tr><tr><td>1890</td><td>Short</td><td>2642</td><td>1</td></tr><tr><td>1900</td><td>Short</td><td>3111</td><td>1</td></tr><tr><td>1910</td><td>Short</td><td>3700</td><td>1</td></tr><tr><td>1920</td><td>Comedy</td><td>2587</td><td>1</td></tr><tr><td>1930</td><td>Comedy</td><td>5389</td><td>1</td></tr><tr><td>1940</td><td>Drama</td><td>5163</td><td>1</td></tr><tr><td>1950</td><td>Drama</td><td>12859</td><td>1</td></tr><tr><td>1960</td><td>Drama</td><td>20424</td><td>1</td></tr><tr><td>1970</td><td>Drama</td><td>27245</td><td>1</td></tr><tr><td>1980</td><td>Drama</td><td>33298</td><td>1</td></tr><tr><td>1990</td><td>Comedy</td><td>46445</td><td>1</td></tr><tr><td>2000</td><td>Drama</td><td>90536</td><td>1</td></tr><tr><td>2010</td><td>Drama</td><td>173260</td><td>1</td></tr><tr><td>2020</td><td>Drama</td><td>109578</td><td>1</td></tr></tbody></table></div>"
      ]
     },
     "metadata": {
      "application/vnd.databricks.v1+output": {
       "addedWidgets": {},
       "aggData": [],
       "aggError": "",
       "aggOverflow": false,
       "aggSchema": [],
       "aggSeriesLimitReached": false,
       "aggType": "",
       "arguments": {},
       "columnCustomDisplayInfos": {},
       "data": [
        [
         1870,
         "Short",
         32,
         1
        ],
        [
         1880,
         "Short",
         79,
         1
        ],
        [
         1890,
         "Short",
         2642,
         1
        ],
        [
         1900,
         "Short",
         3111,
         1
        ],
        [
         1910,
         "Short",
         3700,
         1
        ],
        [
         1920,
         "Comedy",
         2587,
         1
        ],
        [
         1930,
         "Comedy",
         5389,
         1
        ],
        [
         1940,
         "Drama",
         5163,
         1
        ],
        [
         1950,
         "Drama",
         12859,
         1
        ],
        [
         1960,
         "Drama",
         20424,
         1
        ],
        [
         1970,
         "Drama",
         27245,
         1
        ],
        [
         1980,
         "Drama",
         33298,
         1
        ],
        [
         1990,
         "Comedy",
         46445,
         1
        ],
        [
         2000,
         "Drama",
         90536,
         1
        ],
        [
         2010,
         "Drama",
         173260,
         1
        ],
        [
         2020,
         "Drama",
         109578,
         1
        ]
       ],
       "datasetInfos": [],
       "dbfsResultPath": null,
       "isJsonSchema": true,
       "metadata": {},
       "overflow": false,
       "plotOptions": {
        "customPlotOptions": {},
        "displayType": "table",
        "pivotAggregation": null,
        "pivotColumns": null,
        "xColumns": null,
        "yColumns": null
       },
       "removedWidgets": [],
       "schema": [
        {
         "metadata": "{}",
         "name": "decade",
         "type": "\"long\""
        },
        {
         "metadata": "{}",
         "name": "genre",
         "type": "\"string\""
        },
        {
         "metadata": "{}",
         "name": "total_films",
         "type": "\"long\""
        },
        {
         "metadata": "{}",
         "name": "genre_rank",
         "type": "\"integer\""
        }
       ],
       "type": "table"
      }
     },
     "output_type": "display_data"
    }
   ],
   "source": [
    "%sql SELECT \n",
    "  decade,\n",
    "  genre,\n",
    "  genre_count.total_films,\n",
    "  RANK() OVER (PARTITION BY decade ORDER BY total_films DESC) AS genre_rank\n",
    "FROM (\n",
    "  SELECT \n",
    "    decade,\n",
    "    genre,\n",
    "    COUNT(*) AS total_films\n",
    "  FROM gold.films_genres_exploded\n",
    "  WHERE genre IS NOT NULL AND genre != '\\\\N'\n",
    "  GROUP BY decade, genre\n",
    ") AS genre_count\n",
    "WHERE genre IS NOT NULL\n",
    "AND decade IS NOT NULL\n",
    "QUALIFY genre_rank = 1\n",
    "ORDER BY decade;"
   ]
  },
  {
   "cell_type": "code",
   "execution_count": 0,
   "metadata": {
    "application/vnd.databricks.v1+cell": {
     "cellMetadata": {
      "byteLimit": 2048000,
      "implicitDf": true,
      "rowLimit": 10000
     },
     "inputWidgets": {},
     "nuid": "1f4c8b0d-5bfe-4d51-a61a-caf8b47c477c",
     "showTitle": true,
     "tableResultSettingsMap": {},
     "title": "Total de filmes por genero"
    }
   },
   "outputs": [
    {
     "output_type": "display_data",
     "data": {
      "text/html": [
       "<style scoped>\n",
       "  .table-result-container {\n",
       "    max-height: 300px;\n",
       "    overflow: auto;\n",
       "  }\n",
       "  table, th, td {\n",
       "    border: 1px solid black;\n",
       "    border-collapse: collapse;\n",
       "  }\n",
       "  th, td {\n",
       "    padding: 5px;\n",
       "  }\n",
       "  th {\n",
       "    text-align: left;\n",
       "  }\n",
       "</style><div class='table-result-container'><table class='table-result'><thead style='background-color: white'><tr><th>decade</th><th>genre</th><th>total_films</th></tr></thead><tbody><tr><td>1870</td><td>Short</td><td>32</td></tr><tr><td>1870</td><td>Animation</td><td>30</td></tr><tr><td>1870</td><td>Documentary</td><td>2</td></tr><tr><td>1870</td><td>Sport</td><td>1</td></tr><tr><td>1870</td><td>History</td><td>1</td></tr><tr><td>1880</td><td>Short</td><td>79</td></tr><tr><td>1880</td><td>Documentary</td><td>24</td></tr><tr><td>1880</td><td>Animation</td><td>2</td></tr><tr><td>1880</td><td>Sport</td><td>1</td></tr><tr><td>1880</td><td>Drama</td><td>1</td></tr><tr><td>1880</td><td>Reality-TV</td><td>1</td></tr><tr><td>1880</td><td>Biography</td><td>1</td></tr><tr><td>1890</td><td>Short</td><td>2642</td></tr><tr><td>1890</td><td>Documentary</td><td>1462</td></tr><tr><td>1890</td><td>Comedy</td><td>261</td></tr><tr><td>1890</td><td>News</td><td>125</td></tr><tr><td>1890</td><td>Sport</td><td>108</td></tr><tr><td>1890</td><td>Drama</td><td>81</td></tr><tr><td>1890</td><td>War</td><td>45</td></tr><tr><td>1890</td><td>Fantasy</td><td>42</td></tr><tr><td>1890</td><td>Horror</td><td>28</td></tr><tr><td>1890</td><td>Crime</td><td>18</td></tr><tr><td>1890</td><td>History</td><td>16</td></tr><tr><td>1890</td><td>Family</td><td>14</td></tr><tr><td>1890</td><td>Western</td><td>12</td></tr><tr><td>1890</td><td>Action</td><td>11</td></tr><tr><td>1890</td><td>Romance</td><td>11</td></tr><tr><td>1890</td><td>Animation</td><td>9</td></tr><tr><td>1890</td><td>Biography</td><td>5</td></tr><tr><td>1890</td><td>Music</td><td>4</td></tr><tr><td>1890</td><td>Adventure</td><td>2</td></tr><tr><td>1890</td><td>Sci-Fi</td><td>1</td></tr><tr><td>1900</td><td>Short</td><td>3111</td></tr><tr><td>1900</td><td>Documentary</td><td>960</td></tr><tr><td>1900</td><td>Comedy</td><td>738</td></tr><tr><td>1900</td><td>Drama</td><td>535</td></tr><tr><td>1900</td><td>Fantasy</td><td>240</td></tr><tr><td>1900</td><td>Crime</td><td>83</td></tr><tr><td>1900</td><td>Sport</td><td>72</td></tr><tr><td>1900</td><td>News</td><td>51</td></tr><tr><td>1900</td><td>Romance</td><td>50</td></tr><tr><td>1900</td><td>Animation</td><td>49</td></tr><tr><td>1900</td><td>History</td><td>46</td></tr><tr><td>1900</td><td>Action</td><td>43</td></tr><tr><td>1900</td><td>Horror</td><td>36</td></tr><tr><td>1900</td><td>Western</td><td>34</td></tr><tr><td>1900</td><td>Music</td><td>34</td></tr><tr><td>1900</td><td>War</td><td>29</td></tr><tr><td>1900</td><td>Adventure</td><td>29</td></tr><tr><td>1900</td><td>Family</td><td>22</td></tr><tr><td>1900</td><td>Biography</td><td>15</td></tr><tr><td>1900</td><td>Sci-Fi</td><td>15</td></tr><tr><td>1900</td><td>Mystery</td><td>12</td></tr><tr><td>1900</td><td>Musical</td><td>7</td></tr><tr><td>1900</td><td>Adult</td><td>3</td></tr><tr><td>1900</td><td>Thriller</td><td>1</td></tr><tr><td>1910</td><td>Short</td><td>3700</td></tr><tr><td>1910</td><td>Drama</td><td>2949</td></tr><tr><td>1910</td><td>Comedy</td><td>2184</td></tr><tr><td>1910</td><td>Romance</td><td>495</td></tr><tr><td>1910</td><td>Adventure</td><td>402</td></tr><tr><td>1910</td><td>Western</td><td>390</td></tr><tr><td>1910</td><td>Documentary</td><td>265</td></tr><tr><td>1910</td><td>Crime</td><td>250</td></tr><tr><td>1910</td><td>Animation</td><td>206</td></tr><tr><td>1910</td><td>War</td><td>174</td></tr><tr><td>1910</td><td>Action</td><td>167</td></tr><tr><td>1910</td><td>History</td><td>132</td></tr><tr><td>1910</td><td>Horror</td><td>123</td></tr><tr><td>1910</td><td>Fantasy</td><td>122</td></tr><tr><td>1910</td><td>Mystery</td><td>109</td></tr><tr><td>1910</td><td>Thriller</td><td>74</td></tr><tr><td>1910</td><td>Biography</td><td>49</td></tr><tr><td>1910</td><td>Sci-Fi</td><td>44</td></tr><tr><td>1910</td><td>Family</td><td>36</td></tr><tr><td>1910</td><td>Sport</td><td>22</td></tr><tr><td>1910</td><td>Musical</td><td>16</td></tr><tr><td>1910</td><td>News</td><td>8</td></tr><tr><td>1910</td><td>Music</td><td>7</td></tr><tr><td>1910</td><td>Adult</td><td>3</td></tr><tr><td>1920</td><td>Comedy</td><td>2587</td></tr><tr><td>1920</td><td>Short</td><td>2562</td></tr><tr><td>1920</td><td>Drama</td><td>2513</td></tr><tr><td>1920</td><td>Romance</td><td>889</td></tr><tr><td>1920</td><td>Adventure</td><td>781</td></tr><tr><td>1920</td><td>Animation</td><td>698</td></tr><tr><td>1920</td><td>Western</td><td>433</td></tr><tr><td>1920</td><td>Action</td><td>432</td></tr><tr><td>1920</td><td>Crime</td><td>344</td></tr><tr><td>1920</td><td>Documentary</td><td>314</td></tr><tr><td>1920</td><td>Family</td><td>221</td></tr><tr><td>1920</td><td>Mystery</td><td>159</td></tr><tr><td>1920</td><td>Music</td><td>159</td></tr><tr><td>1920</td><td>History</td><td>130</td></tr><tr><td>1920</td><td>Horror</td><td>119</td></tr><tr><td>1920</td><td>Fantasy</td><td>112</td></tr><tr><td>1920</td><td>War</td><td>107</td></tr><tr><td>1920</td><td>Musical</td><td>87</td></tr><tr><td>1920</td><td>Thriller</td><td>70</td></tr><tr><td>1920</td><td>Sport</td><td>67</td></tr><tr><td>1920</td><td>Biography</td><td>45</td></tr><tr><td>1920</td><td>Sci-Fi</td><td>35</td></tr><tr><td>1920</td><td>News</td><td>33</td></tr><tr><td>1920</td><td>Adult</td><td>19</td></tr><tr><td>1920</td><td>Film-Noir</td><td>4</td></tr><tr><td>1930</td><td>Comedy</td><td>5389</td></tr><tr><td>1930</td><td>Drama</td><td>4916</td></tr><tr><td>1930</td><td>Short</td><td>3459</td></tr><tr><td>1930</td><td>Romance</td><td>2322</td></tr><tr><td>1930</td><td>Animation</td><td>2012</td></tr><tr><td>1930</td><td>Crime</td><td>1394</td></tr><tr><td>1930</td><td>Family</td><td>1230</td></tr><tr><td>1930</td><td>Musical</td><td>1166</td></tr><tr><td>1930</td><td>Western</td><td>957</td></tr><tr><td>1930</td><td>Adventure</td><td>861</td></tr><tr><td>1930</td><td>Documentary</td><td>702</td></tr><tr><td>1930</td><td>Action</td><td>677</td></tr><tr><td>1930</td><td>Mystery</td><td>612</td></tr><tr><td>1930</td><td>Music</td><td>603</td></tr><tr><td>1930</td><td>War</td><td>299</td></tr><tr><td>1930</td><td>History</td><td>258</td></tr><tr><td>1930</td><td>Sport</td><td>203</td></tr><tr><td>1930</td><td>Fantasy</td><td>172</td></tr><tr><td>1930</td><td>Horror</td><td>162</td></tr><tr><td>1930</td><td>Thriller</td><td>143</td></tr><tr><td>1930</td><td>Biography</td><td>138</td></tr><tr><td>1930</td><td>Sci-Fi</td><td>66</td></tr><tr><td>1930</td><td>Film-Noir</td><td>63</td></tr><tr><td>1930</td><td>News</td><td>16</td></tr><tr><td>1930</td><td>Adult</td><td>2</td></tr><tr><td>1940</td><td>Drama</td><td>5163</td></tr><tr><td>1940</td><td>Comedy</td><td>4450</td></tr><tr><td>1940</td><td>Short</td><td>2905</td></tr><tr><td>1940</td><td>Animation</td><td>1741</td></tr><tr><td>1940</td><td>Romance</td><td>1647</td></tr><tr><td>1940</td><td>Family</td><td>1250</td></tr><tr><td>1940</td><td>Crime</td><td>1218</td></tr><tr><td>1940</td><td>Western</td><td>1082</td></tr><tr><td>1940</td><td>Documentary</td><td>1015</td></tr><tr><td>1940</td><td>Adventure</td><td>878</td></tr><tr><td>1940</td><td>Music</td><td>845</td></tr><tr><td>1940</td><td>War</td><td>832</td></tr><tr><td>1940</td><td>Musical</td><td>762</td></tr><tr><td>1940</td><td>Mystery</td><td>549</td></tr><tr><td>1940</td><td>Action</td><td>542</td></tr><tr><td>1940</td><td>Film-Noir</td><td>387</td></tr><tr><td>1940</td><td>History</td><td>305</td></tr><tr><td>1940</td><td>Fantasy</td><td>243</td></tr><tr><td>1940</td><td>Horror</td><td>234</td></tr><tr><td>1940</td><td>Thriller</td><td>227</td></tr><tr><td>1940</td><td>Biography</td><td>199</td></tr><tr><td>1940</td><td>Sport</td><td>99</td></tr><tr><td>1940</td><td>Sci-Fi</td><td>53</td></tr><tr><td>1940</td><td>News</td><td>24</td></tr><tr><td>1940</td><td>Game-Show</td><td>12</td></tr><tr><td>1940</td><td>Talk-Show</td><td>9</td></tr><tr><td>1940</td><td>Reality-TV</td><td>1</td></tr><tr><td>1940</td><td>Adult</td><td>1</td></tr><tr><td>1950</td><td>Drama</td><td>12859</td></tr><tr><td>1950</td><td>Comedy</td><td>8887</td></tr><tr><td>1950</td><td>Family</td><td>5095</td></tr><tr><td>1950</td><td>Western</td><td>4591</td></tr><tr><td>1950</td><td>Crime</td><td>3894</td></tr><tr><td>1950</td><td>Adventure</td><td>3312</td></tr><tr><td>1950</td><td>Short</td><td>2657</td></tr><tr><td>1950</td><td>Romance</td><td>2209</td></tr><tr><td>1950</td><td>Action</td><td>1990</td></tr><tr><td>1950</td><td>Animation</td><td>1930</td></tr><tr><td>1950</td><td>Mystery</td><td>1458</td></tr><tr><td>1950</td><td>Documentary</td><td>1323</td></tr><tr><td>1950</td><td>Musical</td><td>1010</td></tr><tr><td>1950</td><td>War</td><td>766</td></tr><tr><td>1950</td><td>Thriller</td><td>697</td></tr><tr><td>1950</td><td>Music</td><td>696</td></tr><tr><td>1950</td><td>Horror</td><td>683</td></tr><tr><td>1950</td><td>History</td><td>595</td></tr><tr><td>1950</td><td>Fantasy</td><td>584</td></tr><tr><td>1950</td><td>Sci-Fi</td><td>581</td></tr><tr><td>1950</td><td>Game-Show</td><td>527</td></tr><tr><td>1950</td><td>Film-Noir</td><td>410</td></tr><tr><td>1950</td><td>Biography</td><td>381</td></tr><tr><td>1950</td><td>Sport</td><td>185</td></tr><tr><td>1950</td><td>Talk-Show</td><td>87</td></tr><tr><td>1950</td><td>News</td><td>79</td></tr><tr><td>1950</td><td>Reality-TV</td><td>21</td></tr><tr><td>1950</td><td>Adult</td><td>2</td></tr><tr><td>1960</td><td>Drama</td><td>20424</td></tr><tr><td>1960</td><td>Comedy</td><td>16143</td></tr><tr><td>1960</td><td>Family</td><td>8598</td></tr><tr><td>1960</td><td>Adventure</td><td>8220</td></tr><tr><td>1960</td><td>Crime</td><td>6953</td></tr><tr><td>1960</td><td>Action</td><td>6172</td></tr><tr><td>1960</td><td>Animation</td><td>5784</td></tr><tr><td>1960</td><td>Western</td><td>4781</td></tr><tr><td>1960</td><td>Short</td><td>4550</td></tr><tr><td>1960</td><td>Fantasy</td><td>2960</td></tr><tr><td>1960</td><td>Romance</td><td>2952</td></tr><tr><td>1960</td><td>Documentary</td><td>2702</td></tr><tr><td>1960</td><td>Horror</td><td>2335</td></tr><tr><td>1960</td><td>Mystery</td><td>1814</td></tr><tr><td>1960</td><td>War</td><td>1799</td></tr><tr><td>1960</td><td>Sci-Fi</td><td>1311</td></tr><tr><td>1960</td><td>Music</td><td>1303</td></tr><tr><td>1960</td><td>Thriller</td><td>1269</td></tr><tr><td>1960</td><td>Musical</td><td>1139</td></tr><tr><td>1960</td><td>History</td><td>836</td></tr><tr><td>1960</td><td>Game-Show</td><td>579</td></tr><tr><td>1960</td><td>Biography</td><td>436</td></tr><tr><td>1960</td><td>Sport</td><td>276</td></tr><tr><td>1960</td><td>Talk-Show</td><td>272</td></tr><tr><td>1960</td><td>News</td><td>104</td></tr><tr><td>1960</td><td>Reality-TV</td><td>25</td></tr><tr><td>1960</td><td>Adult</td><td>19</td></tr><tr><td>1970</td><td>Drama</td><td>27245</td></tr><tr><td>1970</td><td>Comedy</td><td>21551</td></tr><tr><td>1970</td><td>Adventure</td><td>9715</td></tr><tr><td>1970</td><td>Family</td><td>8412</td></tr><tr><td>1970</td><td>Crime</td><td>8368</td></tr><tr><td>1970</td><td>Action</td><td>8099</td></tr><tr><td>1970</td><td>Animation</td><td>7699</td></tr><tr><td>1970</td><td>Short</td><td>4530</td></tr><tr><td>1970</td><td>Romance</td><td>4136</td></tr><tr><td>1970</td><td>Documentary</td><td>3260</td></tr><tr><td>1970</td><td>Mystery</td><td>3098</td></tr><tr><td>1970</td><td>Fantasy</td><td>2834</td></tr><tr><td>1970</td><td>Horror</td><td>2680</td></tr><tr><td>1970</td><td>Music</td><td>2081</td></tr><tr><td>1970</td><td>Thriller</td><td>1946</td></tr><tr><td>1970</td><td>Adult</td><td>1944</td></tr><tr><td>1970</td><td>History</td><td>1758</td></tr><tr><td>1970</td><td>Sci-Fi</td><td>1745</td></tr><tr><td>1970</td><td>War</td><td>1599</td></tr><tr><td>1970</td><td>Western</td><td>1281</td></tr><tr><td>1970</td><td>Musical</td><td>1013</td></tr><tr><td>1970</td><td>Biography</td><td>857</td></tr><tr><td>1970</td><td>Talk-Show</td><td>621</td></tr><tr><td>1970</td><td>Sport</td><td>614</td></tr><tr><td>1970</td><td>Game-Show</td><td>383</td></tr><tr><td>1970</td><td>News</td><td>104</td></tr><tr><td>1970</td><td>Reality-TV</td><td>50</td></tr><tr><td>1980</td><td>Drama</td><td>33298</td></tr><tr><td>1980</td><td>Comedy</td><td>27419</td></tr><tr><td>1980</td><td>Adventure</td><td>13233</td></tr><tr><td>1980</td><td>Action</td><td>13174</td></tr><tr><td>1980</td><td>Animation</td><td>12671</td></tr><tr><td>1980</td><td>Family</td><td>11034</td></tr><tr><td>1980</td><td>Crime</td><td>9797</td></tr><tr><td>1980</td><td>Romance</td><td>6824</td></tr><tr><td>1980</td><td>Documentary</td><td>4694</td></tr><tr><td>1980</td><td>Short</td><td>4280</td></tr><tr><td>1980</td><td>Mystery</td><td>3846</td></tr><tr><td>1980</td><td>Adult</td><td>3672</td></tr><tr><td>1980</td><td>Fantasy</td><td>3383</td></tr><tr><td>1980</td><td>Horror</td><td>3074</td></tr><tr><td>1980</td><td>Music</td><td>2903</td></tr><tr><td>1980</td><td>Thriller</td><td>2646</td></tr><tr><td>1980</td><td>Sci-Fi</td><td>2501</td></tr><tr><td>1980</td><td>History</td><td>1873</td></tr><tr><td>1980</td><td>War</td><td>1484</td></tr><tr><td>1980</td><td>Biography</td><td>1260</td></tr><tr><td>1980</td><td>Musical</td><td>1136</td></tr><tr><td>1980</td><td>Sport</td><td>1058</td></tr><tr><td>1980</td><td>Talk-Show</td><td>580</td></tr><tr><td>1980</td><td>Game-Show</td><td>403</td></tr><tr><td>1980</td><td>Western</td><td>400</td></tr><tr><td>1980</td><td>News</td><td>239</td></tr><tr><td>1980</td><td>Reality-TV</td><td>97</td></tr><tr><td>1990</td><td>Comedy</td><td>46445</td></tr><tr><td>1990</td><td>Drama</td><td>46036</td></tr><tr><td>1990</td><td>Action</td><td>22758</td></tr><tr><td>1990</td><td>Adventure</td><td>20193</td></tr><tr><td>1990</td><td>Animation</td><td>18138</td></tr><tr><td>1990</td><td>Crime</td><td>16347</td></tr><tr><td>1990</td><td>Family</td><td>14444</td></tr><tr><td>1990</td><td>Documentary</td><td>12086</td></tr><tr><td>1990</td><td>Romance</td><td>10796</td></tr><tr><td>1990</td><td>Short</td><td>8615</td></tr><tr><td>1990</td><td>Mystery</td><td>6893</td></tr><tr><td>1990</td><td>Fantasy</td><td>6243</td></tr><tr><td>1990</td><td>Adult</td><td>5213</td></tr><tr><td>1990</td><td>Thriller</td><td>4790</td></tr><tr><td>1990</td><td>Music</td><td>4500</td></tr><tr><td>1990</td><td>Horror</td><td>3946</td></tr><tr><td>1990</td><td>Sci-Fi</td><td>3751</td></tr><tr><td>1990</td><td>Sport</td><td>3354</td></tr><tr><td>1990</td><td>History</td><td>3349</td></tr><tr><td>1990</td><td>Biography</td><td>2438</td></tr><tr><td>1990</td><td>Talk-Show</td><td>1943</td></tr><tr><td>1990</td><td>Game-Show</td><td>1286</td></tr><tr><td>1990</td><td>War</td><td>1278</td></tr><tr><td>1990</td><td>Musical</td><td>1143</td></tr><tr><td>1990</td><td>News</td><td>936</td></tr><tr><td>1990</td><td>Western</td><td>724</td></tr><tr><td>1990</td><td>Reality-TV</td><td>707</td></tr><tr><td>2000</td><td>Drama</td><td>90536</td></tr><tr><td>2000</td><td>Comedy</td><td>87732</td></tr><tr><td>2000</td><td>Documentary</td><td>43527</td></tr><tr><td>2000</td><td>Short</td><td>40239</td></tr><tr><td>2000</td><td>Animation</td><td>38242</td></tr><tr><td>2000</td><td>Action</td><td>37217</td></tr><tr><td>2000</td><td>Adventure</td><td>31834</td></tr><tr><td>2000</td><td>Crime</td><td>26426</td></tr><tr><td>2000</td><td>Romance</td><td>22014</td></tr><tr><td>2000</td><td>Family</td><td>19567</td></tr><tr><td>2000</td><td>Mystery</td><td>13226</td></tr><tr><td>2000</td><td>Reality-TV</td><td>12626</td></tr><tr><td>2000</td><td>Fantasy</td><td>10612</td></tr><tr><td>2000</td><td>Horror</td><td>10419</td></tr><tr><td>2000</td><td>Music</td><td>10320</td></tr><tr><td>2000</td><td>Thriller</td><td>9054</td></tr><tr><td>2000</td><td>History</td><td>8184</td></tr><tr><td>2000</td><td>Talk-Show</td><td>7203</td></tr><tr><td>2000</td><td>Adult</td><td>6685</td></tr><tr><td>2000</td><td>Sport</td><td>6192</td></tr><tr><td>2000</td><td>Game-Show</td><td>6054</td></tr><tr><td>2000</td><td>Sci-Fi</td><td>5978</td></tr><tr><td>2000</td><td>Biography</td><td>4935</td></tr><tr><td>2000</td><td>News</td><td>4251</td></tr><tr><td>2000</td><td>War</td><td>2490</td></tr><tr><td>2000</td><td>Musical</td><td>1917</td></tr><tr><td>2000</td><td>Western</td><td>419</td></tr><tr><td>2010</td><td>Drama</td><td>173260</td></tr><tr><td>2010</td><td>Comedy</td><td>171912</td></tr><tr><td>2010</td><td>Documentary</td><td>83226</td></tr><tr><td>2010</td><td>Short</td><td>71886</td></tr><tr><td>2010</td><td>Action</td><td>65401</td></tr><tr><td>2010</td><td>Animation</td><td>64618</td></tr><tr><td>2010</td><td>Crime</td><td>54574</td></tr><tr><td>2010</td><td>Adventure</td><td>54074</td></tr><tr><td>2010</td><td>Reality-TV</td><td>44231</td></tr><tr><td>2010</td><td>Romance</td><td>39810</td></tr><tr><td>2010</td><td>Family</td><td>29313</td></tr><tr><td>2010</td><td>Horror</td><td>27239</td></tr><tr><td>2010</td><td>Mystery</td><td>25829</td></tr><tr><td>2010</td><td>Thriller</td><td>23881</td></tr><tr><td>2010</td><td>Fantasy</td><td>23181</td></tr><tr><td>2010</td><td>Talk-Show</td><td>20553</td></tr><tr><td>2010</td><td>History</td><td>19736</td></tr><tr><td>2010</td><td>Music</td><td>17039</td></tr><tr><td>2010</td><td>Game-Show</td><td>16144</td></tr><tr><td>2010</td><td>Sci-Fi</td><td>15370</td></tr><tr><td>2010</td><td>Biography</td><td>14280</td></tr><tr><td>2010</td><td>Sport</td><td>11111</td></tr><tr><td>2010</td><td>News</td><td>9860</td></tr><tr><td>2010</td><td>Adult</td><td>5410</td></tr><tr><td>2010</td><td>War</td><td>3975</td></tr><tr><td>2010</td><td>Musical</td><td>3439</td></tr><tr><td>2010</td><td>Western</td><td>1280</td></tr><tr><td>2020</td><td>Drama</td><td>109578</td></tr><tr><td>2020</td><td>Comedy</td><td>85830</td></tr><tr><td>2020</td><td>Documentary</td><td>44537</td></tr><tr><td>2020</td><td>Action</td><td>38063</td></tr><tr><td>2020</td><td>Crime</td><td>36137</td></tr><tr><td>2020</td><td>Animation</td><td>34837</td></tr><tr><td>2020</td><td>Adventure</td><td>31455</td></tr><tr><td>2020</td><td>Romance</td><td>29414</td></tr><tr><td>2020</td><td>Reality-TV</td><td>27449</td></tr><tr><td>2020</td><td>Short</td><td>25235</td></tr><tr><td>2020</td><td>Thriller</td><td>19705</td></tr><tr><td>2020</td><td>Mystery</td><td>17740</td></tr><tr><td>2020</td><td>Horror</td><td>14887</td></tr><tr><td>2020</td><td>Game-Show</td><td>14344</td></tr><tr><td>2020</td><td>Fantasy</td><td>14002</td></tr><tr><td>2020</td><td>Family</td><td>13288</td></tr><tr><td>2020</td><td>Talk-Show</td><td>12631</td></tr><tr><td>2020</td><td>History</td><td>10381</td></tr><tr><td>2020</td><td>Sport</td><td>8174</td></tr><tr><td>2020</td><td>Music</td><td>8092</td></tr><tr><td>2020</td><td>Biography</td><td>7488</td></tr><tr><td>2020</td><td>Sci-Fi</td><td>6718</td></tr><tr><td>2020</td><td>News</td><td>5335</td></tr><tr><td>2020</td><td>War</td><td>1666</td></tr><tr><td>2020</td><td>Musical</td><td>1568</td></tr><tr><td>2020</td><td>Western</td><td>760</td></tr><tr><td>2020</td><td>Adult</td><td>697</td></tr></tbody></table></div>"
      ]
     },
     "metadata": {
      "application/vnd.databricks.v1+output": {
       "addedWidgets": {},
       "aggData": [],
       "aggError": "",
       "aggOverflow": false,
       "aggSchema": [],
       "aggSeriesLimitReached": false,
       "aggType": "",
       "arguments": {},
       "columnCustomDisplayInfos": {},
       "data": [
        [
         1870,
         "Short",
         32
        ],
        [
         1870,
         "Animation",
         30
        ],
        [
         1870,
         "Documentary",
         2
        ],
        [
         1870,
         "Sport",
         1
        ],
        [
         1870,
         "History",
         1
        ],
        [
         1880,
         "Short",
         79
        ],
        [
         1880,
         "Documentary",
         24
        ],
        [
         1880,
         "Animation",
         2
        ],
        [
         1880,
         "Sport",
         1
        ],
        [
         1880,
         "Drama",
         1
        ],
        [
         1880,
         "Reality-TV",
         1
        ],
        [
         1880,
         "Biography",
         1
        ],
        [
         1890,
         "Short",
         2642
        ],
        [
         1890,
         "Documentary",
         1462
        ],
        [
         1890,
         "Comedy",
         261
        ],
        [
         1890,
         "News",
         125
        ],
        [
         1890,
         "Sport",
         108
        ],
        [
         1890,
         "Drama",
         81
        ],
        [
         1890,
         "War",
         45
        ],
        [
         1890,
         "Fantasy",
         42
        ],
        [
         1890,
         "Horror",
         28
        ],
        [
         1890,
         "Crime",
         18
        ],
        [
         1890,
         "History",
         16
        ],
        [
         1890,
         "Family",
         14
        ],
        [
         1890,
         "Western",
         12
        ],
        [
         1890,
         "Action",
         11
        ],
        [
         1890,
         "Romance",
         11
        ],
        [
         1890,
         "Animation",
         9
        ],
        [
         1890,
         "Biography",
         5
        ],
        [
         1890,
         "Music",
         4
        ],
        [
         1890,
         "Adventure",
         2
        ],
        [
         1890,
         "Sci-Fi",
         1
        ],
        [
         1900,
         "Short",
         3111
        ],
        [
         1900,
         "Documentary",
         960
        ],
        [
         1900,
         "Comedy",
         738
        ],
        [
         1900,
         "Drama",
         535
        ],
        [
         1900,
         "Fantasy",
         240
        ],
        [
         1900,
         "Crime",
         83
        ],
        [
         1900,
         "Sport",
         72
        ],
        [
         1900,
         "News",
         51
        ],
        [
         1900,
         "Romance",
         50
        ],
        [
         1900,
         "Animation",
         49
        ],
        [
         1900,
         "History",
         46
        ],
        [
         1900,
         "Action",
         43
        ],
        [
         1900,
         "Horror",
         36
        ],
        [
         1900,
         "Western",
         34
        ],
        [
         1900,
         "Music",
         34
        ],
        [
         1900,
         "War",
         29
        ],
        [
         1900,
         "Adventure",
         29
        ],
        [
         1900,
         "Family",
         22
        ],
        [
         1900,
         "Biography",
         15
        ],
        [
         1900,
         "Sci-Fi",
         15
        ],
        [
         1900,
         "Mystery",
         12
        ],
        [
         1900,
         "Musical",
         7
        ],
        [
         1900,
         "Adult",
         3
        ],
        [
         1900,
         "Thriller",
         1
        ],
        [
         1910,
         "Short",
         3700
        ],
        [
         1910,
         "Drama",
         2949
        ],
        [
         1910,
         "Comedy",
         2184
        ],
        [
         1910,
         "Romance",
         495
        ],
        [
         1910,
         "Adventure",
         402
        ],
        [
         1910,
         "Western",
         390
        ],
        [
         1910,
         "Documentary",
         265
        ],
        [
         1910,
         "Crime",
         250
        ],
        [
         1910,
         "Animation",
         206
        ],
        [
         1910,
         "War",
         174
        ],
        [
         1910,
         "Action",
         167
        ],
        [
         1910,
         "History",
         132
        ],
        [
         1910,
         "Horror",
         123
        ],
        [
         1910,
         "Fantasy",
         122
        ],
        [
         1910,
         "Mystery",
         109
        ],
        [
         1910,
         "Thriller",
         74
        ],
        [
         1910,
         "Biography",
         49
        ],
        [
         1910,
         "Sci-Fi",
         44
        ],
        [
         1910,
         "Family",
         36
        ],
        [
         1910,
         "Sport",
         22
        ],
        [
         1910,
         "Musical",
         16
        ],
        [
         1910,
         "News",
         8
        ],
        [
         1910,
         "Music",
         7
        ],
        [
         1910,
         "Adult",
         3
        ],
        [
         1920,
         "Comedy",
         2587
        ],
        [
         1920,
         "Short",
         2562
        ],
        [
         1920,
         "Drama",
         2513
        ],
        [
         1920,
         "Romance",
         889
        ],
        [
         1920,
         "Adventure",
         781
        ],
        [
         1920,
         "Animation",
         698
        ],
        [
         1920,
         "Western",
         433
        ],
        [
         1920,
         "Action",
         432
        ],
        [
         1920,
         "Crime",
         344
        ],
        [
         1920,
         "Documentary",
         314
        ],
        [
         1920,
         "Family",
         221
        ],
        [
         1920,
         "Mystery",
         159
        ],
        [
         1920,
         "Music",
         159
        ],
        [
         1920,
         "History",
         130
        ],
        [
         1920,
         "Horror",
         119
        ],
        [
         1920,
         "Fantasy",
         112
        ],
        [
         1920,
         "War",
         107
        ],
        [
         1920,
         "Musical",
         87
        ],
        [
         1920,
         "Thriller",
         70
        ],
        [
         1920,
         "Sport",
         67
        ],
        [
         1920,
         "Biography",
         45
        ],
        [
         1920,
         "Sci-Fi",
         35
        ],
        [
         1920,
         "News",
         33
        ],
        [
         1920,
         "Adult",
         19
        ],
        [
         1920,
         "Film-Noir",
         4
        ],
        [
         1930,
         "Comedy",
         5389
        ],
        [
         1930,
         "Drama",
         4916
        ],
        [
         1930,
         "Short",
         3459
        ],
        [
         1930,
         "Romance",
         2322
        ],
        [
         1930,
         "Animation",
         2012
        ],
        [
         1930,
         "Crime",
         1394
        ],
        [
         1930,
         "Family",
         1230
        ],
        [
         1930,
         "Musical",
         1166
        ],
        [
         1930,
         "Western",
         957
        ],
        [
         1930,
         "Adventure",
         861
        ],
        [
         1930,
         "Documentary",
         702
        ],
        [
         1930,
         "Action",
         677
        ],
        [
         1930,
         "Mystery",
         612
        ],
        [
         1930,
         "Music",
         603
        ],
        [
         1930,
         "War",
         299
        ],
        [
         1930,
         "History",
         258
        ],
        [
         1930,
         "Sport",
         203
        ],
        [
         1930,
         "Fantasy",
         172
        ],
        [
         1930,
         "Horror",
         162
        ],
        [
         1930,
         "Thriller",
         143
        ],
        [
         1930,
         "Biography",
         138
        ],
        [
         1930,
         "Sci-Fi",
         66
        ],
        [
         1930,
         "Film-Noir",
         63
        ],
        [
         1930,
         "News",
         16
        ],
        [
         1930,
         "Adult",
         2
        ],
        [
         1940,
         "Drama",
         5163
        ],
        [
         1940,
         "Comedy",
         4450
        ],
        [
         1940,
         "Short",
         2905
        ],
        [
         1940,
         "Animation",
         1741
        ],
        [
         1940,
         "Romance",
         1647
        ],
        [
         1940,
         "Family",
         1250
        ],
        [
         1940,
         "Crime",
         1218
        ],
        [
         1940,
         "Western",
         1082
        ],
        [
         1940,
         "Documentary",
         1015
        ],
        [
         1940,
         "Adventure",
         878
        ],
        [
         1940,
         "Music",
         845
        ],
        [
         1940,
         "War",
         832
        ],
        [
         1940,
         "Musical",
         762
        ],
        [
         1940,
         "Mystery",
         549
        ],
        [
         1940,
         "Action",
         542
        ],
        [
         1940,
         "Film-Noir",
         387
        ],
        [
         1940,
         "History",
         305
        ],
        [
         1940,
         "Fantasy",
         243
        ],
        [
         1940,
         "Horror",
         234
        ],
        [
         1940,
         "Thriller",
         227
        ],
        [
         1940,
         "Biography",
         199
        ],
        [
         1940,
         "Sport",
         99
        ],
        [
         1940,
         "Sci-Fi",
         53
        ],
        [
         1940,
         "News",
         24
        ],
        [
         1940,
         "Game-Show",
         12
        ],
        [
         1940,
         "Talk-Show",
         9
        ],
        [
         1940,
         "Reality-TV",
         1
        ],
        [
         1940,
         "Adult",
         1
        ],
        [
         1950,
         "Drama",
         12859
        ],
        [
         1950,
         "Comedy",
         8887
        ],
        [
         1950,
         "Family",
         5095
        ],
        [
         1950,
         "Western",
         4591
        ],
        [
         1950,
         "Crime",
         3894
        ],
        [
         1950,
         "Adventure",
         3312
        ],
        [
         1950,
         "Short",
         2657
        ],
        [
         1950,
         "Romance",
         2209
        ],
        [
         1950,
         "Action",
         1990
        ],
        [
         1950,
         "Animation",
         1930
        ],
        [
         1950,
         "Mystery",
         1458
        ],
        [
         1950,
         "Documentary",
         1323
        ],
        [
         1950,
         "Musical",
         1010
        ],
        [
         1950,
         "War",
         766
        ],
        [
         1950,
         "Thriller",
         697
        ],
        [
         1950,
         "Music",
         696
        ],
        [
         1950,
         "Horror",
         683
        ],
        [
         1950,
         "History",
         595
        ],
        [
         1950,
         "Fantasy",
         584
        ],
        [
         1950,
         "Sci-Fi",
         581
        ],
        [
         1950,
         "Game-Show",
         527
        ],
        [
         1950,
         "Film-Noir",
         410
        ],
        [
         1950,
         "Biography",
         381
        ],
        [
         1950,
         "Sport",
         185
        ],
        [
         1950,
         "Talk-Show",
         87
        ],
        [
         1950,
         "News",
         79
        ],
        [
         1950,
         "Reality-TV",
         21
        ],
        [
         1950,
         "Adult",
         2
        ],
        [
         1960,
         "Drama",
         20424
        ],
        [
         1960,
         "Comedy",
         16143
        ],
        [
         1960,
         "Family",
         8598
        ],
        [
         1960,
         "Adventure",
         8220
        ],
        [
         1960,
         "Crime",
         6953
        ],
        [
         1960,
         "Action",
         6172
        ],
        [
         1960,
         "Animation",
         5784
        ],
        [
         1960,
         "Western",
         4781
        ],
        [
         1960,
         "Short",
         4550
        ],
        [
         1960,
         "Fantasy",
         2960
        ],
        [
         1960,
         "Romance",
         2952
        ],
        [
         1960,
         "Documentary",
         2702
        ],
        [
         1960,
         "Horror",
         2335
        ],
        [
         1960,
         "Mystery",
         1814
        ],
        [
         1960,
         "War",
         1799
        ],
        [
         1960,
         "Sci-Fi",
         1311
        ],
        [
         1960,
         "Music",
         1303
        ],
        [
         1960,
         "Thriller",
         1269
        ],
        [
         1960,
         "Musical",
         1139
        ],
        [
         1960,
         "History",
         836
        ],
        [
         1960,
         "Game-Show",
         579
        ],
        [
         1960,
         "Biography",
         436
        ],
        [
         1960,
         "Sport",
         276
        ],
        [
         1960,
         "Talk-Show",
         272
        ],
        [
         1960,
         "News",
         104
        ],
        [
         1960,
         "Reality-TV",
         25
        ],
        [
         1960,
         "Adult",
         19
        ],
        [
         1970,
         "Drama",
         27245
        ],
        [
         1970,
         "Comedy",
         21551
        ],
        [
         1970,
         "Adventure",
         9715
        ],
        [
         1970,
         "Family",
         8412
        ],
        [
         1970,
         "Crime",
         8368
        ],
        [
         1970,
         "Action",
         8099
        ],
        [
         1970,
         "Animation",
         7699
        ],
        [
         1970,
         "Short",
         4530
        ],
        [
         1970,
         "Romance",
         4136
        ],
        [
         1970,
         "Documentary",
         3260
        ],
        [
         1970,
         "Mystery",
         3098
        ],
        [
         1970,
         "Fantasy",
         2834
        ],
        [
         1970,
         "Horror",
         2680
        ],
        [
         1970,
         "Music",
         2081
        ],
        [
         1970,
         "Thriller",
         1946
        ],
        [
         1970,
         "Adult",
         1944
        ],
        [
         1970,
         "History",
         1758
        ],
        [
         1970,
         "Sci-Fi",
         1745
        ],
        [
         1970,
         "War",
         1599
        ],
        [
         1970,
         "Western",
         1281
        ],
        [
         1970,
         "Musical",
         1013
        ],
        [
         1970,
         "Biography",
         857
        ],
        [
         1970,
         "Talk-Show",
         621
        ],
        [
         1970,
         "Sport",
         614
        ],
        [
         1970,
         "Game-Show",
         383
        ],
        [
         1970,
         "News",
         104
        ],
        [
         1970,
         "Reality-TV",
         50
        ],
        [
         1980,
         "Drama",
         33298
        ],
        [
         1980,
         "Comedy",
         27419
        ],
        [
         1980,
         "Adventure",
         13233
        ],
        [
         1980,
         "Action",
         13174
        ],
        [
         1980,
         "Animation",
         12671
        ],
        [
         1980,
         "Family",
         11034
        ],
        [
         1980,
         "Crime",
         9797
        ],
        [
         1980,
         "Romance",
         6824
        ],
        [
         1980,
         "Documentary",
         4694
        ],
        [
         1980,
         "Short",
         4280
        ],
        [
         1980,
         "Mystery",
         3846
        ],
        [
         1980,
         "Adult",
         3672
        ],
        [
         1980,
         "Fantasy",
         3383
        ],
        [
         1980,
         "Horror",
         3074
        ],
        [
         1980,
         "Music",
         2903
        ],
        [
         1980,
         "Thriller",
         2646
        ],
        [
         1980,
         "Sci-Fi",
         2501
        ],
        [
         1980,
         "History",
         1873
        ],
        [
         1980,
         "War",
         1484
        ],
        [
         1980,
         "Biography",
         1260
        ],
        [
         1980,
         "Musical",
         1136
        ],
        [
         1980,
         "Sport",
         1058
        ],
        [
         1980,
         "Talk-Show",
         580
        ],
        [
         1980,
         "Game-Show",
         403
        ],
        [
         1980,
         "Western",
         400
        ],
        [
         1980,
         "News",
         239
        ],
        [
         1980,
         "Reality-TV",
         97
        ],
        [
         1990,
         "Comedy",
         46445
        ],
        [
         1990,
         "Drama",
         46036
        ],
        [
         1990,
         "Action",
         22758
        ],
        [
         1990,
         "Adventure",
         20193
        ],
        [
         1990,
         "Animation",
         18138
        ],
        [
         1990,
         "Crime",
         16347
        ],
        [
         1990,
         "Family",
         14444
        ],
        [
         1990,
         "Documentary",
         12086
        ],
        [
         1990,
         "Romance",
         10796
        ],
        [
         1990,
         "Short",
         8615
        ],
        [
         1990,
         "Mystery",
         6893
        ],
        [
         1990,
         "Fantasy",
         6243
        ],
        [
         1990,
         "Adult",
         5213
        ],
        [
         1990,
         "Thriller",
         4790
        ],
        [
         1990,
         "Music",
         4500
        ],
        [
         1990,
         "Horror",
         3946
        ],
        [
         1990,
         "Sci-Fi",
         3751
        ],
        [
         1990,
         "Sport",
         3354
        ],
        [
         1990,
         "History",
         3349
        ],
        [
         1990,
         "Biography",
         2438
        ],
        [
         1990,
         "Talk-Show",
         1943
        ],
        [
         1990,
         "Game-Show",
         1286
        ],
        [
         1990,
         "War",
         1278
        ],
        [
         1990,
         "Musical",
         1143
        ],
        [
         1990,
         "News",
         936
        ],
        [
         1990,
         "Western",
         724
        ],
        [
         1990,
         "Reality-TV",
         707
        ],
        [
         2000,
         "Drama",
         90536
        ],
        [
         2000,
         "Comedy",
         87732
        ],
        [
         2000,
         "Documentary",
         43527
        ],
        [
         2000,
         "Short",
         40239
        ],
        [
         2000,
         "Animation",
         38242
        ],
        [
         2000,
         "Action",
         37217
        ],
        [
         2000,
         "Adventure",
         31834
        ],
        [
         2000,
         "Crime",
         26426
        ],
        [
         2000,
         "Romance",
         22014
        ],
        [
         2000,
         "Family",
         19567
        ],
        [
         2000,
         "Mystery",
         13226
        ],
        [
         2000,
         "Reality-TV",
         12626
        ],
        [
         2000,
         "Fantasy",
         10612
        ],
        [
         2000,
         "Horror",
         10419
        ],
        [
         2000,
         "Music",
         10320
        ],
        [
         2000,
         "Thriller",
         9054
        ],
        [
         2000,
         "History",
         8184
        ],
        [
         2000,
         "Talk-Show",
         7203
        ],
        [
         2000,
         "Adult",
         6685
        ],
        [
         2000,
         "Sport",
         6192
        ],
        [
         2000,
         "Game-Show",
         6054
        ],
        [
         2000,
         "Sci-Fi",
         5978
        ],
        [
         2000,
         "Biography",
         4935
        ],
        [
         2000,
         "News",
         4251
        ],
        [
         2000,
         "War",
         2490
        ],
        [
         2000,
         "Musical",
         1917
        ],
        [
         2000,
         "Western",
         419
        ],
        [
         2010,
         "Drama",
         173260
        ],
        [
         2010,
         "Comedy",
         171912
        ],
        [
         2010,
         "Documentary",
         83226
        ],
        [
         2010,
         "Short",
         71886
        ],
        [
         2010,
         "Action",
         65401
        ],
        [
         2010,
         "Animation",
         64618
        ],
        [
         2010,
         "Crime",
         54574
        ],
        [
         2010,
         "Adventure",
         54074
        ],
        [
         2010,
         "Reality-TV",
         44231
        ],
        [
         2010,
         "Romance",
         39810
        ],
        [
         2010,
         "Family",
         29313
        ],
        [
         2010,
         "Horror",
         27239
        ],
        [
         2010,
         "Mystery",
         25829
        ],
        [
         2010,
         "Thriller",
         23881
        ],
        [
         2010,
         "Fantasy",
         23181
        ],
        [
         2010,
         "Talk-Show",
         20553
        ],
        [
         2010,
         "History",
         19736
        ],
        [
         2010,
         "Music",
         17039
        ],
        [
         2010,
         "Game-Show",
         16144
        ],
        [
         2010,
         "Sci-Fi",
         15370
        ],
        [
         2010,
         "Biography",
         14280
        ],
        [
         2010,
         "Sport",
         11111
        ],
        [
         2010,
         "News",
         9860
        ],
        [
         2010,
         "Adult",
         5410
        ],
        [
         2010,
         "War",
         3975
        ],
        [
         2010,
         "Musical",
         3439
        ],
        [
         2010,
         "Western",
         1280
        ],
        [
         2020,
         "Drama",
         109578
        ],
        [
         2020,
         "Comedy",
         85830
        ],
        [
         2020,
         "Documentary",
         44537
        ],
        [
         2020,
         "Action",
         38063
        ],
        [
         2020,
         "Crime",
         36137
        ],
        [
         2020,
         "Animation",
         34837
        ],
        [
         2020,
         "Adventure",
         31455
        ],
        [
         2020,
         "Romance",
         29414
        ],
        [
         2020,
         "Reality-TV",
         27449
        ],
        [
         2020,
         "Short",
         25235
        ],
        [
         2020,
         "Thriller",
         19705
        ],
        [
         2020,
         "Mystery",
         17740
        ],
        [
         2020,
         "Horror",
         14887
        ],
        [
         2020,
         "Game-Show",
         14344
        ],
        [
         2020,
         "Fantasy",
         14002
        ],
        [
         2020,
         "Family",
         13288
        ],
        [
         2020,
         "Talk-Show",
         12631
        ],
        [
         2020,
         "History",
         10381
        ],
        [
         2020,
         "Sport",
         8174
        ],
        [
         2020,
         "Music",
         8092
        ],
        [
         2020,
         "Biography",
         7488
        ],
        [
         2020,
         "Sci-Fi",
         6718
        ],
        [
         2020,
         "News",
         5335
        ],
        [
         2020,
         "War",
         1666
        ],
        [
         2020,
         "Musical",
         1568
        ],
        [
         2020,
         "Western",
         760
        ],
        [
         2020,
         "Adult",
         697
        ]
       ],
       "datasetInfos": [],
       "dbfsResultPath": null,
       "isJsonSchema": true,
       "metadata": {},
       "overflow": false,
       "plotOptions": {
        "customPlotOptions": {},
        "displayType": "table",
        "pivotAggregation": null,
        "pivotColumns": null,
        "xColumns": null,
        "yColumns": null
       },
       "removedWidgets": [],
       "schema": [
        {
         "metadata": "{}",
         "name": "decade",
         "type": "\"long\""
        },
        {
         "metadata": "{}",
         "name": "genre",
         "type": "\"string\""
        },
        {
         "metadata": "{}",
         "name": "total_films",
         "type": "\"long\""
        }
       ],
       "type": "table"
      }
     },
     "output_type": "display_data"
    },
    {
     "output_type": "display_data",
     "data": {
      "text/plain": [
       "Databricks visualization. Run in Databricks to view."
      ]
     },
     "metadata": {
      "application/vnd.databricks.v1.subcommand+json": {
       "baseErrorDetails": null,
       "bindings": {},
       "collapsed": false,
       "command": "%python\n__backend_agg_display_orig = display\n__backend_agg_dfs = []\ndef __backend_agg_display_new(df):\n    __backend_agg_df_modules = [\"pandas.core.frame\", \"databricks.koalas.frame\", \"pyspark.sql.dataframe\", \"pyspark.pandas.frame\", \"pyspark.sql.connect.dataframe\"]\n    if (type(df).__module__ in __backend_agg_df_modules and type(df).__name__ == 'DataFrame') or isinstance(df, list):\n        __backend_agg_dfs.append(df)\n\ndisplay = __backend_agg_display_new\n\ndef __backend_agg_user_code_fn():\n    import base64\n    exec(base64.standard_b64decode(\"ZGlzcGxheShkZl9nZW5yZXNfZXhwbG9kZWQp\").decode())\n\ntry:\n    # run user code\n    __backend_agg_user_code_fn()\n\n    #reset display function\n    display = __backend_agg_display_orig\n\n    if len(__backend_agg_dfs) > 0:\n        # create a temp view\n        if type(__backend_agg_dfs[0]).__module__ == \"databricks.koalas.frame\":\n            # koalas dataframe\n            __backend_agg_dfs[0].to_spark().createOrReplaceTempView(\"DatabricksView93d4148\")\n        elif type(__backend_agg_dfs[0]).__module__ == \"pandas.core.frame\" or isinstance(__backend_agg_dfs[0], list):\n            # pandas dataframe\n            spark.createDataFrame(__backend_agg_dfs[0]).createOrReplaceTempView(\"DatabricksView93d4148\")\n        else:\n            __backend_agg_dfs[0].createOrReplaceTempView(\"DatabricksView93d4148\")\n        #run backend agg\n        display(spark.sql(\"\"\"WITH q AS (select * from DatabricksView93d4148) SELECT 1 FROM q GROUP BY GROUPING SETS (())\"\"\"))\n    else:\n        displayHTML(\"dataframe no longer exists. If you're using dataframe.display(), use display(dataframe) instead.\")\n\n\nfinally:\n    spark.sql(\"drop view if exists DatabricksView93d4148\")\n    display = __backend_agg_display_orig\n    del __backend_agg_display_new\n    del __backend_agg_display_orig\n    del __backend_agg_dfs\n    del __backend_agg_user_code_fn\n\n",
       "commandTitle": "Visualization 1",
       "commandType": "auto",
       "commandVersion": 0,
       "commentThread": [],
       "commentsVisible": false,
       "contentSha256Hex": null,
       "customPlotOptions": {
        "redashChart": [
         {
          "key": "type",
          "value": "CHART"
         },
         {
          "key": "options",
          "value": {
           "alignYAxesAtZero": true,
           "coefficient": 1,
           "columnConfigurationMap": {
            "series": {
             "column": "genre",
             "id": "column_20d5c14739"
            },
            "x": {
             "column": "decade",
             "id": "column_20d5c14741"
            },
            "y": [
             {
              "column": "total_films",
              "id": "column_20d5c14746",
              "transform": "SUM"
             }
            ]
           },
           "dateTimeFormat": "DD/MM/YYYY HH:mm",
           "direction": {
            "type": "counterclockwise"
           },
           "error_y": {
            "type": "data",
            "visible": true
           },
           "globalSeriesType": "column",
           "hideXAxis": false,
           "isAggregationOn": true,
           "legend": {
            "traceorder": "normal"
           },
           "missingValuesAsZero": true,
           "numberFormat": "0,0.[00000]",
           "percentFormat": "0[.]00%",
           "series": {
            "error_y": {
             "type": "data",
             "visible": true
            },
            "percentValues": false,
            "stacking": null
           },
           "seriesOptions": {
            "": {
             "yAxis": 0
            },
            "Action": {
             "yAxis": 1
            },
            "column_20d5c14746": {
             "type": "column",
             "yAxis": 0
            },
            "column_20d5c14749": {
             "type": "column",
             "yAxis": 0
            }
           },
           "showDataLabels": true,
           "sizemode": "diameter",
           "sortX": true,
           "sortY": true,
           "swappedAxes": false,
           "textFormat": "",
           "useAggregationsUi": true,
           "valuesOptions": {},
           "version": 2,
           "xAxis": {
            "labels": {
             "enabled": true
            },
            "type": "-"
           },
           "yAxis": [
            {
             "type": "-"
            },
            {
             "opposite": true,
             "type": "-"
            }
           ]
          }
         }
        ]
       },
       "datasetPreviewNameToCmdIdMap": {},
       "diffDeletes": [],
       "diffInserts": [],
       "displayType": "redashChart",
       "error": null,
       "errorDetails": null,
       "errorSummary": null,
       "errorTraceType": null,
       "finishTime": 0,
       "globalVars": {},
       "guid": "",
       "height": "auto",
       "hideCommandCode": false,
       "hideCommandResult": false,
       "iPythonMetadata": null,
       "inputWidgets": {},
       "isLockedInExamMode": false,
       "latestUser": "a user",
       "latestUserId": null,
       "listResultMetadata": null,
       "metadata": {},
       "nuid": "e1ae481d-5ac3-45e2-9c5f-d780d51ea65b",
       "origId": 0,
       "parentHierarchy": [],
       "pivotAggregation": null,
       "pivotColumns": null,
       "position": 17.5,
       "resultDbfsErrorMessage": null,
       "resultDbfsStatus": "INLINED_IN_TREE",
       "results": null,
       "showCommandTitle": false,
       "startTime": 0,
       "state": "input",
       "streamStates": {},
       "subcommandOptions": {
        "queryPlan": {
         "groups": [
          {
           "column": "decade",
           "type": "column"
          },
          {
           "column": "genre",
           "type": "column"
          }
         ],
         "selects": [
          {
           "alias": "column_20d5c14746",
           "args": [
            {
             "column": "total_films",
             "type": "column"
            }
           ],
           "function": "SUM",
           "type": "function"
          },
          {
           "column": "decade",
           "type": "column"
          },
          {
           "column": "genre",
           "type": "column"
          }
         ]
        }
       },
       "submitTime": 0,
       "subtype": "tableResultSubCmd.visualization",
       "tableResultIndex": 0,
       "tableResultSettingsMap": {},
       "useConsistentColors": false,
       "version": "CommandV1",
       "width": "auto",
       "workflows": [],
       "xColumns": null,
       "yColumns": null
      }
     },
     "output_type": "display_data"
    }
   ],
   "source": [
    "%sql SELECT \n",
    "  decade,\n",
    "  genre,\n",
    "  COUNT(*) AS total_films\n",
    "FROM \n",
    "  gold.films_genres_exploded\n",
    "WHERE \n",
    "  genre IS NOT NULL \n",
    "  AND genre != '\\\\N'  \n",
    "  AND decade IS NOT NULL-- Garantir que o gênero não seja nulo ou inválido\n",
    "GROUP BY \n",
    "  decade, genre\n",
    "ORDER BY \n",
    "  decade, total_films DESC;\n"
   ]
  },
  {
   "cell_type": "code",
   "execution_count": 0,
   "metadata": {
    "application/vnd.databricks.v1+cell": {
     "cellMetadata": {
      "byteLimit": 2048000,
      "implicitDf": true,
      "rowLimit": 10000
     },
     "inputWidgets": {},
     "nuid": "e6a6986b-44a4-4835-a7bd-30121e498b1e",
     "showTitle": true,
     "tableResultSettingsMap": {},
     "title": "Grafico com o total de filmes por decada"
    }
   },
   "outputs": [
    {
     "output_type": "display_data",
     "data": {
      "text/html": [
       "<style scoped>\n",
       "  .table-result-container {\n",
       "    max-height: 300px;\n",
       "    overflow: auto;\n",
       "  }\n",
       "  table, th, td {\n",
       "    border: 1px solid black;\n",
       "    border-collapse: collapse;\n",
       "  }\n",
       "  th, td {\n",
       "    padding: 5px;\n",
       "  }\n",
       "  th {\n",
       "    text-align: left;\n",
       "  }\n",
       "</style><div class='table-result-container'><table class='table-result'><thead style='background-color: white'><tr><th>decade</th><th>total_films</th></tr></thead><tbody><tr><td>1870</td><td>66</td></tr><tr><td>1880</td><td>109</td></tr><tr><td>1890</td><td>4897</td></tr><tr><td>1900</td><td>6282</td></tr><tr><td>1910</td><td>12257</td></tr><tr><td>1920</td><td>13200</td></tr><tr><td>1930</td><td>28262</td></tr><tr><td>1940</td><td>27160</td></tr><tr><td>1950</td><td>58088</td></tr><tr><td>1960</td><td>104922</td></tr><tr><td>1970</td><td>129329</td></tr><tr><td>1980</td><td>169731</td></tr><tr><td>1990</td><td>272378</td></tr><tr><td>2000</td><td>562077</td></tr><tr><td>2010</td><td>1094406</td></tr><tr><td>2020</td><td>622434</td></tr></tbody></table></div>"
      ]
     },
     "metadata": {
      "application/vnd.databricks.v1+output": {
       "addedWidgets": {},
       "aggData": [],
       "aggError": "",
       "aggOverflow": false,
       "aggSchema": [],
       "aggSeriesLimitReached": false,
       "aggType": "",
       "arguments": {},
       "columnCustomDisplayInfos": {},
       "data": [
        [
         1870,
         66
        ],
        [
         1880,
         109
        ],
        [
         1890,
         4897
        ],
        [
         1900,
         6282
        ],
        [
         1910,
         12257
        ],
        [
         1920,
         13200
        ],
        [
         1930,
         28262
        ],
        [
         1940,
         27160
        ],
        [
         1950,
         58088
        ],
        [
         1960,
         104922
        ],
        [
         1970,
         129329
        ],
        [
         1980,
         169731
        ],
        [
         1990,
         272378
        ],
        [
         2000,
         562077
        ],
        [
         2010,
         1094406
        ],
        [
         2020,
         622434
        ]
       ],
       "datasetInfos": [],
       "dbfsResultPath": null,
       "isJsonSchema": true,
       "metadata": {},
       "overflow": false,
       "plotOptions": {
        "customPlotOptions": {},
        "displayType": "table",
        "pivotAggregation": null,
        "pivotColumns": null,
        "xColumns": null,
        "yColumns": null
       },
       "removedWidgets": [],
       "schema": [
        {
         "metadata": "{}",
         "name": "decade",
         "type": "\"long\""
        },
        {
         "metadata": "{}",
         "name": "total_films",
         "type": "\"long\""
        }
       ],
       "type": "table"
      }
     },
     "output_type": "display_data"
    },
    {
     "output_type": "display_data",
     "data": {
      "text/plain": [
       "Databricks visualization. Run in Databricks to view."
      ]
     },
     "metadata": {
      "application/vnd.databricks.v1.subcommand+json": {
       "baseErrorDetails": null,
       "bindings": {},
       "collapsed": false,
       "command": "%sql WITH q AS (SELECT \n  decade,\n  COUNT(*) AS total_films                 \nFROM \n  gold.films_genres_exploded           \nWHERE \n  decade IS NOT NULL                  \nGROUP BY \n  decade                                 \nORDER BY \n  decade) SELECT `decade`,SUM(`total_films`) `column_20d5c14764` FROM q GROUP BY `decade`",
       "commandTitle": "Visualization 1",
       "commandType": "auto",
       "commandVersion": 0,
       "commentThread": [],
       "commentsVisible": false,
       "contentSha256Hex": null,
       "customPlotOptions": {
        "redashChart": [
         {
          "key": "type",
          "value": "CHART"
         },
         {
          "key": "options",
          "value": {
           "alignYAxesAtZero": true,
           "coefficient": 1,
           "columnConfigurationMap": {
            "x": {
             "column": "decade",
             "id": "column_20d5c14773"
            },
            "y": [
             {
              "column": "total_films",
              "id": "column_20d5c14764",
              "transform": "SUM"
             }
            ]
           },
           "dateTimeFormat": "DD/MM/YYYY HH:mm",
           "direction": {
            "type": "counterclockwise"
           },
           "error_y": {
            "type": "data",
            "visible": true
           },
           "globalSeriesType": "column",
           "isAggregationOn": true,
           "legend": {
            "traceorder": "normal"
           },
           "missingValuesAsZero": false,
           "numberFormat": "0,0.[00000]",
           "percentFormat": "0[.]00%",
           "series": {
            "error_y": {
             "type": "data",
             "visible": true
            },
            "stacking": null
           },
           "seriesOptions": {
            "column_20d5c14764": {
             "name": "total_films",
             "type": "column",
             "yAxis": 0
            }
           },
           "showDataLabels": false,
           "sizemode": "diameter",
           "sortX": true,
           "sortY": true,
           "swappedAxes": false,
           "textFormat": "",
           "useAggregationsUi": true,
           "valuesOptions": {},
           "version": 2,
           "xAxis": {
            "labels": {
             "enabled": true
            },
            "type": "-"
           },
           "yAxis": [
            {
             "type": "-"
            },
            {
             "opposite": true,
             "type": "-"
            }
           ]
          }
         }
        ]
       },
       "datasetPreviewNameToCmdIdMap": {},
       "diffDeletes": [],
       "diffInserts": [],
       "displayType": "redashChart",
       "error": null,
       "errorDetails": null,
       "errorSummary": null,
       "errorTraceType": null,
       "finishTime": 0,
       "globalVars": {},
       "guid": "",
       "height": "auto",
       "hideCommandCode": false,
       "hideCommandResult": false,
       "iPythonMetadata": null,
       "inputWidgets": {},
       "isLockedInExamMode": false,
       "latestUser": "a user",
       "latestUserId": null,
       "listResultMetadata": null,
       "metadata": {},
       "nuid": "ad220784-abed-4dac-a886-f216c26f2be0",
       "origId": 0,
       "parentHierarchy": [],
       "pivotAggregation": null,
       "pivotColumns": null,
       "position": 18.5,
       "resultDbfsErrorMessage": null,
       "resultDbfsStatus": "INLINED_IN_TREE",
       "results": null,
       "showCommandTitle": false,
       "startTime": 0,
       "state": "input",
       "streamStates": {},
       "subcommandOptions": {
        "queryPlan": {
         "groups": [
          {
           "column": "decade",
           "type": "column"
          }
         ],
         "selects": [
          {
           "column": "decade",
           "type": "column"
          },
          {
           "alias": "column_20d5c14764",
           "args": [
            {
             "column": "total_films",
             "type": "column"
            }
           ],
           "function": "SUM",
           "type": "function"
          }
         ]
        }
       },
       "submitTime": 0,
       "subtype": "tableResultSubCmd.visualization",
       "tableResultIndex": 0,
       "tableResultSettingsMap": {},
       "useConsistentColors": false,
       "version": "CommandV1",
       "width": "auto",
       "workflows": [],
       "xColumns": null,
       "yColumns": null
      }
     },
     "output_type": "display_data"
    }
   ],
   "source": [
    "%sql\n",
    "SELECT \n",
    "  decade,\n",
    "  COUNT(*) AS total_films                 \n",
    "FROM \n",
    "  gold.films_genres_exploded           \n",
    "WHERE \n",
    "  decade IS NOT NULL                 \n",
    "GROUP BY \n",
    "  decade                                 \n",
    "ORDER BY \n",
    "  decade;"
   ]
  },
  {
   "cell_type": "code",
   "execution_count": 0,
   "metadata": {
    "application/vnd.databricks.v1+cell": {
     "cellMetadata": {
      "byteLimit": 2048000,
      "implicitDf": true,
      "rowLimit": 10000
     },
     "inputWidgets": {},
     "nuid": "d3c951dc-9870-4ccf-a53b-5abf73d42f3d",
     "showTitle": true,
     "tableResultSettingsMap": {},
     "title": "Analise - Pergunta 4: 4.\tO número de filmes lançados aumentou com o tempo?"
    }
   },
   "outputs": [
    {
     "output_type": "display_data",
     "data": {
      "text/html": [
       "<style scoped>\n",
       "  .table-result-container {\n",
       "    max-height: 300px;\n",
       "    overflow: auto;\n",
       "  }\n",
       "  table, th, td {\n",
       "    border: 1px solid black;\n",
       "    border-collapse: collapse;\n",
       "  }\n",
       "  th, td {\n",
       "    padding: 5px;\n",
       "  }\n",
       "  th {\n",
       "    text-align: left;\n",
       "  }\n",
       "</style><div class='table-result-container'><table class='table-result'><thead style='background-color: white'><tr><th>decade</th><th>movie_count</th><th>prev_decade_count</th><th>growth_percent</th><th>era_cinematografica</th></tr></thead><tbody><tr><td>1870</td><td>32</td><td>null</td><td>null</td><td>Era Pioneira</td></tr><tr><td>1880</td><td>80</td><td>32</td><td>150.0</td><td>Era Pioneira</td></tr><tr><td>1890</td><td>2663</td><td>80</td><td>3228.75</td><td>Era Pioneira</td></tr><tr><td>1900</td><td>3276</td><td>2663</td><td>23.02</td><td>Cinema Mudo</td></tr><tr><td>1910</td><td>6796</td><td>3276</td><td>107.45</td><td>Cinema Mudo</td></tr><tr><td>1920</td><td>6970</td><td>6796</td><td>2.56</td><td>Cinema Mudo</td></tr><tr><td>1930</td><td>13988</td><td>6970</td><td>100.69</td><td>Era de Ouro</td></tr><tr><td>1940</td><td>13374</td><td>13988</td><td>-4.39</td><td>Era de Ouro</td></tr><tr><td>1950</td><td>31471</td><td>13374</td><td>135.31</td><td>Era de Ouro</td></tr><tr><td>1960</td><td>53824</td><td>31471</td><td>71.03</td><td>Expansão Global</td></tr><tr><td>1970</td><td>66517</td><td>53824</td><td>23.58</td><td>Expansão Global</td></tr><tr><td>1980</td><td>86375</td><td>66517</td><td>29.85</td><td>Expansão Global</td></tr><tr><td>1990</td><td>135344</td><td>86375</td><td>56.69</td><td>Era Digital</td></tr><tr><td>2000</td><td>282824</td><td>135344</td><td>108.97</td><td>Era Digital</td></tr><tr><td>2010</td><td>539904</td><td>282824</td><td>90.9</td><td>Era Digital</td></tr><tr><td>2020</td><td>313694</td><td>539904</td><td>-41.9</td><td>Era Digital</td></tr></tbody></table></div>"
      ]
     },
     "metadata": {
      "application/vnd.databricks.v1+output": {
       "addedWidgets": {},
       "aggData": [],
       "aggError": "",
       "aggOverflow": false,
       "aggSchema": [],
       "aggSeriesLimitReached": false,
       "aggType": "",
       "arguments": {},
       "columnCustomDisplayInfos": {},
       "data": [
        [
         1870,
         32,
         null,
         null,
         "Era Pioneira"
        ],
        [
         1880,
         80,
         32,
         150.0,
         "Era Pioneira"
        ],
        [
         1890,
         2663,
         80,
         3228.75,
         "Era Pioneira"
        ],
        [
         1900,
         3276,
         2663,
         23.02,
         "Cinema Mudo"
        ],
        [
         1910,
         6796,
         3276,
         107.45,
         "Cinema Mudo"
        ],
        [
         1920,
         6970,
         6796,
         2.56,
         "Cinema Mudo"
        ],
        [
         1930,
         13988,
         6970,
         100.69,
         "Era de Ouro"
        ],
        [
         1940,
         13374,
         13988,
         -4.39,
         "Era de Ouro"
        ],
        [
         1950,
         31471,
         13374,
         135.31,
         "Era de Ouro"
        ],
        [
         1960,
         53824,
         31471,
         71.03,
         "Expansão Global"
        ],
        [
         1970,
         66517,
         53824,
         23.58,
         "Expansão Global"
        ],
        [
         1980,
         86375,
         66517,
         29.85,
         "Expansão Global"
        ],
        [
         1990,
         135344,
         86375,
         56.69,
         "Era Digital"
        ],
        [
         2000,
         282824,
         135344,
         108.97,
         "Era Digital"
        ],
        [
         2010,
         539904,
         282824,
         90.9,
         "Era Digital"
        ],
        [
         2020,
         313694,
         539904,
         -41.9,
         "Era Digital"
        ]
       ],
       "datasetInfos": [],
       "dbfsResultPath": null,
       "isJsonSchema": true,
       "metadata": {},
       "overflow": false,
       "plotOptions": {
        "customPlotOptions": {},
        "displayType": "table",
        "pivotAggregation": null,
        "pivotColumns": null,
        "xColumns": null,
        "yColumns": null
       },
       "removedWidgets": [],
       "schema": [
        {
         "metadata": "{}",
         "name": "decade",
         "type": "\"long\""
        },
        {
         "metadata": "{}",
         "name": "movie_count",
         "type": "\"long\""
        },
        {
         "metadata": "{}",
         "name": "prev_decade_count",
         "type": "\"long\""
        },
        {
         "metadata": "{}",
         "name": "growth_percent",
         "type": "\"double\""
        },
        {
         "metadata": "{}",
         "name": "era_cinematografica",
         "type": "\"string\""
        }
       ],
       "type": "table"
      }
     },
     "output_type": "display_data"
    }
   ],
   "source": [
    "%sql  WITH movies_by_decade AS (\n",
    "  SELECT \n",
    "    decade,\n",
    "    COUNT(*) AS movie_count,\n",
    "    LAG(COUNT(*), 1) OVER (ORDER BY decade) AS prev_decade_count\n",
    "  FROM gold.films_rating_with_decade\n",
    "  WHERE decade IS NOT NULL\n",
    "  GROUP BY decade\n",
    ")\n",
    "\n",
    "SELECT \n",
    "  decade,\n",
    "  movie_count,\n",
    "  prev_decade_count,\n",
    "  ROUND((movie_count - prev_decade_count) / prev_decade_count * 100, 2) AS growth_percent,\n",
    "  CASE \n",
    "    WHEN decade BETWEEN 1870 AND 1890 THEN 'Era Pioneira'\n",
    "    WHEN decade BETWEEN 1900 AND 1920 THEN 'Cinema Mudo'\n",
    "    WHEN decade BETWEEN 1930 AND 1950 THEN 'Era de Ouro'\n",
    "    WHEN decade BETWEEN 1960 AND 1980 THEN 'Expansão Global'\n",
    "    WHEN decade >= 1990 THEN 'Era Digital'\n",
    "  END AS era_cinematografica\n",
    "FROM movies_by_decade\n",
    "\n",
    "ORDER BY decade;"
   ]
  },
  {
   "cell_type": "code",
   "execution_count": 0,
   "metadata": {
    "application/vnd.databricks.v1+cell": {
     "cellMetadata": {},
     "inputWidgets": {},
     "nuid": "6f80fda4-234e-4f29-a2c6-c8ea40b95006",
     "showTitle": false,
     "tableResultSettingsMap": {},
     "title": ""
    }
   },
   "outputs": [],
   "source": [
    "Principais Conclusões:\n",
    "Crescimento Exponencial:\n",
    "\n",
    "A produção cinematográfica aumentou em quase todas as décadas, exceto na década atual (incompleta)\n",
    "\n",
    "Marcos Históricos:\n",
    "\n",
    "1890-1920:  (popularização do cinema)\n",
    "\n",
    "1940s:  2ª Guerra Mundial\n",
    "\n",
    "2000s: Pico absoluto de produção \n",
    "\n",
    "Tendência Recente:\n",
    "\n",
    "A década de 2020 mostra redução (dados parciais), possivelmente devido:\n",
    "\n",
    "Pandemia de COVID-19\n",
    "\n",
    "Mudança para streaming (menos registros no IMDB)\n",
    "\n",
    "Década ainda não concluída"
   ]
  }
 ],
 "metadata": {
  "application/vnd.databricks.v1+notebook": {
   "computePreferences": null,
   "dashboards": [
    {
     "elements": [],
     "globalVars": {},
     "guid": "",
     "layoutOption": {
      "grid": true,
      "stack": true
     },
     "nuid": "beed0efc-74b9-414a-a9cd-188a36e15197",
     "origId": 3513260991005748,
     "title": "Untitled",
     "version": "DashboardViewV1",
     "width": 1024
    }
   ],
   "environmentMetadata": {
    "base_environment": "",
    "environment_version": "1"
   },
   "inputWidgetPreferences": null,
   "language": "python",
   "notebookMetadata": {
    "mostRecentlyExecutedCommandWithImplicitDF": {
     "commandId": 2652780128036855,
     "dataframes": [
      "_sqldf"
     ]
    },
    "pythonIndentUnit": 4
   },
   "notebookName": "Projeto_ETL",
   "widgets": {}
  }
 },
 "nbformat": 4,
 "nbformat_minor": 0
}